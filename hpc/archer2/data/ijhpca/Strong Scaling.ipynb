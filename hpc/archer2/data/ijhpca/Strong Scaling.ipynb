{
 "cells": [
  {
   "cell_type": "code",
   "execution_count": 123,
   "id": "2137b1d9-7f65-410a-b79d-7ed81dcf9b46",
   "metadata": {},
   "outputs": [],
   "source": [
    "import pandas as pd\n",
    "import numpy as np"
   ]
  },
  {
   "cell_type": "code",
   "execution_count": 126,
   "id": "20e41bec-f758-4668-aef5-cada4ba8652b",
   "metadata": {},
   "outputs": [],
   "source": [
    "def global_depth(rank):\n",
    "    \"\"\"\n",
    "    will return the first power of 8 greater than rank, the power corresponding to the level\n",
    "    \"\"\"\n",
    "    level = 1\n",
    "    loop = True\n",
    "\n",
    "    while loop:\n",
    "\n",
    "        if rank <= 8**level:\n",
    "            loop = False\n",
    "            result = level\n",
    "        else:\n",
    "            level += 1\n",
    "    \n",
    "    return result\n",
    "\n",
    "v_global_depth = np.vectorize(global_depth)\n",
    "\n",
    "\n",
    "def local_depth(points_per_rank, max_points_per_leaf, min_local_depth):\n",
    "\n",
    "    local_level = min_local_depth\n",
    "    loop = True\n",
    "\n",
    "    while loop:\n",
    "        n_leaves = 8**local_level # leaves in local tree\n",
    "        points_per_leaf = points_per_rank / n_leaves\n",
    "        if points_per_leaf <= max_points_per_leaf:\n",
    "            loop = False\n",
    "            result = local_level\n",
    "        else:\n",
    "            local_level += 1\n",
    "        \n",
    "    return result\n",
    "\n",
    "v_local_depth = np.vectorize(local_depth)\n",
    "\n",
    "def pow2(x): return np.log2(x).is_integer()"
   ]
  },
  {
   "cell_type": "code",
   "execution_count": 136,
   "id": "f0abc6a1-73c9-4608-80f7-43c6c64c0257",
   "metadata": {},
   "outputs": [
    {
     "name": "stdout",
     "output_type": "stream",
     "text": [
      "Total problem size n=1.024B\n",
      "global depth [2 2 3 3 3 4 4 4 5]\n",
      "local depth [5 5 4 4 4 3 3 3 3]\n",
      "points per rank [32000000 16000000  8000000  4000000  2000000  1000000   500000   250000\n",
      "   125000]\n"
     ]
    }
   ],
   "source": [
    "max_nodes = 256\n",
    "min_nodes = 1\n",
    "ranks_per_node=32 # ranks on 1 node, such that 1 per CCX region\n",
    "total_ranks = max_nodes*ranks_per_node # 16 nodes, 32 ranks per node (1 per CCX region)\n",
    "min_points_per_rank = 125e3\n",
    "n = min_points_per_rank*total_ranks # total problem size\n",
    "print(f\"Total problem size n={n/1e9}B\")\n",
    "\n",
    "# Double number of nodes used until we reach max_nodes\n",
    "n_nodes = np.array(list(filter(pow2, [i for i in range(min_nodes, max_nodes+1)])))\n",
    "\n",
    "points_per_node = [n]\n",
    "for i in range(len(n_nodes)-1):\n",
    "    p = points_per_node[i]/2\n",
    "    points_per_node.append(p)\n",
    "points_per_node = np.array(points_per_node)\n",
    "    \n",
    "total_ranks = n_nodes*32\n",
    "points_per_rank = np.int64(points_per_node/ranks_per_node)\n",
    "\n",
    "\n",
    "# The global depth is a function of the ranks per node (as will need enough global leaves to cover this many ranks (local trees))\n",
    "global_depth = v_global_depth(total_ranks)\n",
    "print(f\"global depth {global_depth}\")\n",
    "\n",
    "# Calculate max threshold for points per leaf from largest scale problem\n",
    "min_local_depth = 3\n",
    "max_points_per_leaf = points_per_rank[-1] / 8**min_local_depth\n",
    "\n",
    "\n",
    "local_depth = v_local_depth(points_per_rank, max_points_per_leaf = 2000, min_local_depth=min_local_depth)\n",
    "print(f\"local depth {local_depth}\")\n",
    "\n",
    "print(f\"points per rank {points_per_rank}\")"
   ]
  },
  {
   "cell_type": "code",
   "execution_count": 137,
   "id": "7e4cee87-4ec2-43b7-aae5-473898e26188",
   "metadata": {},
   "outputs": [
    {
     "data": {
      "text/plain": [
       "array([1024000000, 1024000000, 1024000000, 1024000000, 1024000000,\n",
       "       1024000000, 1024000000, 1024000000, 1024000000])"
      ]
     },
     "execution_count": 137,
     "metadata": {},
     "output_type": "execute_result"
    }
   ],
   "source": [
    "total_ranks * points_per_rank"
   ]
  },
  {
   "cell_type": "code",
   "execution_count": 139,
   "id": "1e9f65ac-7c18-42c7-ba6c-9c405be10761",
   "metadata": {},
   "outputs": [
    {
     "data": {
      "text/plain": [
       "array([  32,   64,  128,  256,  512, 1024, 2048, 4096, 8192])"
      ]
     },
     "execution_count": 139,
     "metadata": {},
     "output_type": "execute_result"
    }
   ],
   "source": [
    "total_ranks"
   ]
  },
  {
   "cell_type": "code",
   "execution_count": 140,
   "id": "f9d7f392-ae99-4f18-a1a1-595a3b422e07",
   "metadata": {},
   "outputs": [
    {
     "data": {
      "text/plain": [
       "array([  1,   2,   4,   8,  16,  32,  64, 128, 256])"
      ]
     },
     "execution_count": 140,
     "metadata": {},
     "output_type": "execute_result"
    }
   ],
   "source": [
    "n_nodes"
   ]
  },
  {
   "cell_type": "code",
   "execution_count": null,
   "id": "23d20266-53e5-40a5-9561-fcc5347a011c",
   "metadata": {},
   "outputs": [],
   "source": []
  }
 ],
 "metadata": {
  "kernelspec": {
   "display_name": "Python 3 (ipykernel)",
   "language": "python",
   "name": "python3"
  },
  "language_info": {
   "codemirror_mode": {
    "name": "ipython",
    "version": 3
   },
   "file_extension": ".py",
   "mimetype": "text/x-python",
   "name": "python",
   "nbconvert_exporter": "python",
   "pygments_lexer": "ipython3",
   "version": "3.10.17"
  }
 },
 "nbformat": 4,
 "nbformat_minor": 5
}
