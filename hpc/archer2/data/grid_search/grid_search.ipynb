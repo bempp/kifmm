{
 "cells": [
  {
   "cell_type": "code",
   "execution_count": 13,
   "id": "b165b3a0-1743-44e5-adbd-fb1fb758e8a3",
   "metadata": {},
   "outputs": [],
   "source": [
    "import matplotlib.pyplot as plt\n",
    "import numpy as np\n",
    "import pandas as pd"
   ]
  },
  {
   "cell_type": "code",
   "execution_count": 14,
   "id": "604d9bd3-c036-4e4e-bdb6-19a5193e8174",
   "metadata": {},
   "outputs": [],
   "source": [
    "df = pd.read_csv('grid_search_fft_f32_1e6.csv')"
   ]
  },
  {
   "cell_type": "code",
   "execution_count": 15,
   "id": "37937fb4-276d-4a0e-9c31-602b8aade5c5",
   "metadata": {},
   "outputs": [
    {
     "data": {
      "text/plain": [
       "Index(['experiment_id', 'rank', 'runtime', 'p2m', 'm2m', 'l2l', 'm2l', 'p2p',\n",
       "       'source_tree', 'target_tree', 'source_domain', 'target_domain',\n",
       "       'layout', 'ghost_exchange_v', 'ghost_exchange_v_runtime',\n",
       "       'ghost_exchange_u', 'gather_global_fmm', 'scatter_global_fmm',\n",
       "       'source_to_target_data', 'source_data', 'target_data', 'global_fmm',\n",
       "       'ghost_fmm_v', 'ghost_fmm_u', 'displacement_map', 'metadata_creation',\n",
       "       'expansion_order', 'n_points', 'local_depth', 'global_depth',\n",
       "       'block_size', 'n_threads', 'n_samples'],\n",
       "      dtype='object')"
      ]
     },
     "execution_count": 15,
     "metadata": {},
     "output_type": "execute_result"
    }
   ],
   "source": [
    "df.columns"
   ]
  },
  {
   "cell_type": "code",
   "execution_count": 16,
   "id": "a58fcee5-281b-4c8e-892b-5a438cc32616",
   "metadata": {},
   "outputs": [],
   "source": [
    "experiments = df.groupby('experiment_id')"
   ]
  },
  {
   "cell_type": "code",
   "execution_count": 17,
   "id": "cdd2452e-a4f0-406f-9f47-f09382f2f2c0",
   "metadata": {},
   "outputs": [
    {
     "name": "stdout",
     "output_type": "stream",
     "text": [
      "n_points_per_rank, local_depth, runtime, m2l, p2p, source_tree\n",
      "250000 4 652 483 148 2258\n",
      "500000 4 946 484 438 4599\n",
      "1000000 4 2078 479 1559 9261\n",
      "250000 5 4315 4055 147 2453\n",
      "500000 5 4434 4054 247 4881\n",
      "1000000 5 4707 4092 479 9332\n"
     ]
    }
   ],
   "source": [
    "print(\"n_points_per_rank, local_depth, runtime, m2l, p2p, source_tree\")\n",
    "for (k, i) in experiments.groups.items():\n",
    "    print(\n",
    "        df.iloc[i]['n_points'].min(), \n",
    "        df.iloc[i]['local_depth'].min(), \n",
    "        df.iloc[i]['runtime'].max(), \n",
    "        df.iloc[i]['m2l'].max(), \n",
    "        df.iloc[i]['p2p'].max(), \n",
    "        df.iloc[i]['source_tree'].max()\n",
    "    )\n"
   ]
  },
  {
   "cell_type": "code",
   "execution_count": 18,
   "id": "e6b552bf-97cc-40f4-9a49-3348e36996bc",
   "metadata": {},
   "outputs": [],
   "source": [
    "df = pd.read_csv('grid_search_fft_f32_1e7.csv')"
   ]
  },
  {
   "cell_type": "code",
   "execution_count": 19,
   "id": "36de7ef2-b49a-4917-9572-cf6dfde8c1d3",
   "metadata": {},
   "outputs": [],
   "source": [
    "experiments = df.groupby('experiment_id')"
   ]
  },
  {
   "cell_type": "code",
   "execution_count": 20,
   "id": "96142445-b99f-4e44-a4a4-45f39f2d1652",
   "metadata": {},
   "outputs": [
    {
     "name": "stdout",
     "output_type": "stream",
     "text": [
      "n_points_per_rank, local_depth, runtime, m2l, p2p, source_tree\n",
      "5000000 5 9557 3998 5351 47382\n",
      "10000000 5 16051 2782 12970 94296\n",
      "5000000 6 37248 33776 2351 48902\n"
     ]
    }
   ],
   "source": [
    "print(\"n_points_per_rank, local_depth, runtime, m2l, p2p, source_tree\")\n",
    "for (k, i) in experiments.groups.items():\n",
    "    print(\n",
    "        df.iloc[i]['n_points'].min(), \n",
    "        df.iloc[i]['local_depth'].min(), \n",
    "        df.iloc[i]['runtime'].max(), \n",
    "        df.iloc[i]['m2l'].max(), \n",
    "        df.iloc[i]['p2p'].max(), \n",
    "        df.iloc[i]['source_tree'].max()\n",
    "    )\n"
   ]
  },
  {
   "cell_type": "code",
   "execution_count": 23,
   "id": "84034538-3fb6-43be-84f9-258f5d0285fe",
   "metadata": {},
   "outputs": [
    {
     "data": {
      "text/plain": [
       "2.56"
      ]
     },
     "execution_count": 23,
     "metadata": {},
     "output_type": "execute_result"
    }
   ],
   "source": [
    "512*5e6/1e9"
   ]
  },
  {
   "cell_type": "code",
   "execution_count": null,
   "id": "6fc681a0-670e-4e0e-af42-45e669e745da",
   "metadata": {},
   "outputs": [],
   "source": []
  }
 ],
 "metadata": {
  "kernelspec": {
   "display_name": "Python 3 (ipykernel)",
   "language": "python",
   "name": "python3"
  },
  "language_info": {
   "codemirror_mode": {
    "name": "ipython",
    "version": 3
   },
   "file_extension": ".py",
   "mimetype": "text/x-python",
   "name": "python",
   "nbconvert_exporter": "python",
   "pygments_lexer": "ipython3",
   "version": "3.10.15"
  }
 },
 "nbformat": 4,
 "nbformat_minor": 5
}
