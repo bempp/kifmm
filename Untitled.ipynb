{
 "cells": [
  {
   "cell_type": "code",
   "execution_count": 1,
   "id": "88ce7055-c0a7-4401-a84f-8660ace87dc4",
   "metadata": {},
   "outputs": [],
   "source": [
    "import re\n",
    "from collections import defaultdict\n",
    "\n",
    "\n",
    "def parse_complex_block(block):\n",
    "    \"\"\"\n",
    "    Convert '[Complex { re: 1.0, im: 2.0 }, ...]' into [1+2j, ...]\n",
    "    \"\"\"\n",
    "    pattern = re.compile(r'Complex\\s*\\{\\s*re:\\s*([-+]?[0-9]*\\.?[0-9]+),\\s*im:\\s*([-+]?[0-9]*\\.?[0-9]+)\\s*\\}')\n",
    "    return [complex(float(re_), float(im_)) for re_, im_ in pattern.findall(block)]\n",
    "\n",
    "def parse_file(filename):\n",
    "    pattern = re.compile(\n",
    "        r'(BLAS|FFT)\\s+level\\s+(\\d+)\\s+rank\\s+(\\d+)\\s+(\\[.*\\])'\n",
    "    )\n",
    "\n",
    "    # Nested dict: { 'BLAS': { level: { rank: [complex, ...] } } }\n",
    "    data = defaultdict(lambda: defaultdict(dict))\n",
    "\n",
    "    with open(filename, 'r') as file:\n",
    "        for line in file:\n",
    "            match = pattern.search(line)\n",
    "            if match:\n",
    "                category, level_str, rank_str, complex_block = match.groups()\n",
    "                level = int(level_str)\n",
    "                rank = int(rank_str)\n",
    "                complex_list = parse_complex_block(complex_block)\n",
    "                data[category][level][rank] = complex_list\n",
    "\n",
    "    return data"
   ]
  },
  {
   "cell_type": "code",
   "execution_count": 188,
   "id": "92b74475-1d21-4c44-9a19-4c87adaf6634",
   "metadata": {},
   "outputs": [],
   "source": [
    "df = parse_file('level-locals-nt1-ghosts.txt')"
   ]
  },
  {
   "cell_type": "code",
   "execution_count": 189,
   "id": "3da16132-a5ea-4cff-8afb-415226b8d20b",
   "metadata": {},
   "outputs": [
    {
     "name": "stdout",
     "output_type": "stream",
     "text": [
      "0\n"
     ]
    }
   ],
   "source": [
    "blas = df['BLAS']\n",
    "fft = df['FFT']\n",
    "level = 4\n",
    "rank = 0\n",
    "failed = []\n",
    "passed = []\n",
    "for i, (a, b) in enumerate(zip(fft[level][rank], blas[level][rank])):\n",
    "    try:\n",
    "        assert abs(a-b) < 5e-1\n",
    "        passed.append((i, a, b))\n",
    "    except:\n",
    "        failed.append((i, a, b))\n",
    "print(len(failed))"
   ]
  },
  {
   "cell_type": "code",
   "execution_count": null,
   "id": "117d61e9-2873-4278-9b09-16994c92c5d8",
   "metadata": {},
   "outputs": [],
   "source": [
    "df = parse_file('level-locals-nt1-local.txt')"
   ]
  },
  {
   "cell_type": "code",
   "execution_count": null,
   "id": "a83e4696-7f97-4cda-b862-e967da3adf62",
   "metadata": {},
   "outputs": [],
   "source": [
    "blas = df['BLAS']\n",
    "fft = df['FFT']\n",
    "level = 4\n",
    "rank = 0\n",
    "failed = []\n",
    "passed = []\n",
    "for i, (a, b) in enumerate(zip(fft[level][rank], blas[level][rank])):\n",
    "    try:\n",
    "        assert abs(a-b) < 5e-1\n",
    "        passed.append((i, a, b))\n",
    "    except:\n",
    "        failed.append((i, a, b))\n",
    "print(len(failed))"
   ]
  }
 ],
 "metadata": {
  "kernelspec": {
   "display_name": "Python 3 (ipykernel)",
   "language": "python",
   "name": "python3"
  },
  "language_info": {
   "codemirror_mode": {
    "name": "ipython",
    "version": 3
   },
   "file_extension": ".py",
   "mimetype": "text/x-python",
   "name": "python",
   "nbconvert_exporter": "python",
   "pygments_lexer": "ipython3",
   "version": "3.10.17"
  }
 },
 "nbformat": 4,
 "nbformat_minor": 5
}
