{
 "cells": [
  {
   "cell_type": "code",
   "execution_count": 44,
   "id": "2287fe5a-fc92-46bf-b5aa-0c29c1b1e719",
   "metadata": {},
   "outputs": [
    {
     "name": "stdout",
     "output_type": "stream",
     "text": [
      "8\n"
     ]
    }
   ],
   "source": [
    "\n",
    "i_ref = 7\n",
    "n_rows = 50\n",
    "\n",
    "i_ref = (i_ref + 1) % n_rows\n",
    "print(i_ref)\n",
    "# i_ref -= (i_ref % 3)"
   ]
  },
  {
   "cell_type": "code",
   "execution_count": 39,
   "id": "d856d089-2412-4931-bd30-a5c69e89c4a8",
   "metadata": {},
   "outputs": [
    {
     "data": {
      "text/plain": [
       "6"
      ]
     },
     "execution_count": 39,
     "metadata": {},
     "output_type": "execute_result"
    }
   ],
   "source": [
    "i_ref"
   ]
  },
  {
   "cell_type": "code",
   "execution_count": null,
   "id": "077b4ec4-4f01-4e1c-9731-5c9fda0583b3",
   "metadata": {},
   "outputs": [],
   "source": []
  },
  {
   "cell_type": "code",
   "execution_count": null,
   "id": "a79dde20-a51d-46d2-9f2b-0c137ce70482",
   "metadata": {},
   "outputs": [],
   "source": []
  }
 ],
 "metadata": {
  "kernelspec": {
   "display_name": "Python 3 (ipykernel)",
   "language": "python",
   "name": "python3"
  },
  "language_info": {
   "codemirror_mode": {
    "name": "ipython",
    "version": 3
   },
   "file_extension": ".py",
   "mimetype": "text/x-python",
   "name": "python",
   "nbconvert_exporter": "python",
   "pygments_lexer": "ipython3",
   "version": "3.13.1"
  }
 },
 "nbformat": 4,
 "nbformat_minor": 5
}
