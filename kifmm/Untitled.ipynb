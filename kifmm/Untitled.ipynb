{
 "cells": [
  {
   "cell_type": "code",
   "execution_count": 12,
   "id": "1ef5b1dd-a9e1-4d7e-a8e6-50775ffcc13e",
   "metadata": {},
   "outputs": [
    {
     "name": "stdout",
     "output_type": "stream",
     "text": [
      "Cross-correlation result: [2.60000000e+01 1.40000000e+01 5.00000000e+00 1.29189588e-15\n",
      " 2.58379177e-15 2.16998137e-15 1.26161707e-15 3.00000000e+00\n",
      " 8.00000000e+00 1.40000000e+01 2.00000000e+01]\n",
      "Convolution result: [1.91765795e-15 3.00000000e+00 8.00000000e+00 1.40000000e+01\n",
      " 2.00000000e+01 2.60000000e+01 1.40000000e+01 5.00000000e+00\n",
      " 0.00000000e+00 6.45947942e-16 3.22973971e-16]\n"
     ]
    }
   ],
   "source": [
    "import numpy as np\n",
    "\n",
    "# Define the sequences\n",
    "x = np.array([0, 1, 2, 3, 4, 5])\n",
    "y = np.array([0, 0, 0, 1, 2, 3])\n",
    "\n",
    "# Cross-Correlation using FFT\n",
    "def cross_correlation(x, y):\n",
    "    N = len(x) + len(y) - 1\n",
    "    x_padded = np.pad(x, (0, N - len(x)), 'constant')\n",
    "    y_padded = np.pad(y, (0, N - len(y)), 'constant')\n",
    "    \n",
    "    X = np.fft.fft(x_padded)\n",
    "    Y = np.fft.fft(y_padded)\n",
    "    Y_conj = np.conj(Y)\n",
    "    \n",
    "    R = X * Y_conj\n",
    "    r_xy = np.fft.ifft(R)\n",
    "    \n",
    "    return np.real(r_xy)\n",
    "\n",
    "# Convolution with Flipped Sequence using FFT\n",
    "def convolution_with_flipped(x, y):\n",
    "    y_flipped = y[::-1]\n",
    "    N = len(x) + len(y_flipped) - 1\n",
    "    x_padded = np.pad(x, (0, N - len(x)), 'constant')\n",
    "    y_flipped_padded = np.pad(y_flipped, (0, N - len(y_flipped)), 'constant')\n",
    "    \n",
    "    X = np.fft.fft(x_padded)\n",
    "    Y_flipped = np.fft.fft(y_flipped_padded)\n",
    "    \n",
    "    R = X * Y_flipped\n",
    "    conv_result = np.fft.ifft(R)\n",
    "    \n",
    "    return np.real(conv_result)\n",
    "\n",
    "# Compute both results\n",
    "cross_corr_result = cross_correlation(x, y)\n",
    "conv_result = convolution_with_flipped(x, y)\n",
    "\n",
    "print(\"Cross-correlation result:\", cross_corr_result)\n",
    "print(\"Convolution result:\", conv_result)\n"
   ]
  },
  {
   "cell_type": "code",
   "execution_count": null,
   "id": "8e2c9e50-0cdb-45b9-b63f-921d9e321a42",
   "metadata": {},
   "outputs": [],
   "source": []
  }
 ],
 "metadata": {
  "kernelspec": {
   "display_name": "Python 3 (ipykernel)",
   "language": "python",
   "name": "python3"
  },
  "language_info": {
   "codemirror_mode": {
    "name": "ipython",
    "version": 3
   },
   "file_extension": ".py",
   "mimetype": "text/x-python",
   "name": "python",
   "nbconvert_exporter": "python",
   "pygments_lexer": "ipython3",
   "version": "3.10.14"
  }
 },
 "nbformat": 4,
 "nbformat_minor": 5
}
