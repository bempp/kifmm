{
 "cells": [
  {
   "cell_type": "code",
   "execution_count": 24,
   "id": "4c203d2e-130d-4101-9c24-4c490a5532b5",
   "metadata": {},
   "outputs": [],
   "source": [
    "%gui qt\n",
    "from collections import defaultdict\n",
    "from datetime import datetime\n",
    "from time import time\n",
    "from stl import mesh\n",
    "from mayavi import mlab\n",
    "import numpy as np\n",
    "import matplotlib.pyplot as plt\n",
    "import pandas as pd\n",
    "import seaborn as sns\n",
    "\n",
    "from kifmm_py import KiFmm, RandomSvdSettings"
   ]
  },
  {
   "cell_type": "code",
   "execution_count": 25,
   "id": "18d44135-1c9f-4f2d-8c22-591b59534c6a",
   "metadata": {},
   "outputs": [],
   "source": [
    "def read_stl_triangle_mesh_vertices(filepath, dtype=np.float32):\n",
    "    \"\"\"Read STL into Fortran ordered NumPy array\"\"\"\n",
    "    m = mesh.Mesh.from_file(filepath).vectors\n",
    "\n",
    "    faces = m.reshape(-1, 3)\n",
    "    faces = np.arange(faces.shape[0]).reshape(-1, 3)  # Assuming each face is a triangle\n",
    "\n",
    "    x = m[:, :, 0].flatten()\n",
    "    y = m[:, :, 1].flatten()\n",
    "    z = m[:, :, 2].flatten()\n",
    "\n",
    "    # Return as a single Fortran order array\n",
    "    n = len(x)\n",
    "    result = np.zeros((n, 3)).astype(dtype)\n",
    "    result[:, 0] = x\n",
    "    result[:, 1] = y\n",
    "    result[:, 2] = z\n",
    "    return (result, faces)"
   ]
  },
  {
   "cell_type": "code",
   "execution_count": 26,
   "id": "9d7f590f-99be-441e-86e3-474f66414ff1",
   "metadata": {},
   "outputs": [],
   "source": [
    "(sources, faces) = read_stl_triangle_mesh_vertices(\"battleship.STL\")\n",
    "x = sources[:, 0]\n",
    "y = sources[:, 1]\n",
    "z = sources[:, 2]"
   ]
  },
  {
   "cell_type": "code",
   "execution_count": 27,
   "id": "57582da1-7215-4080-a469-173fbb78019a",
   "metadata": {},
   "outputs": [],
   "source": [
    "mlab.view(azimuth=40, elevation=70, distance=\"auto\", focalpoint=\"auto\")\n",
    "fig = mlab.figure(\n",
    "    size=(960, 1080), bgcolor=(1, 1, 1)\n",
    ")  # This sets the window size for rendering\n",
    "plot = mlab.triangular_mesh(\n",
    "    x, y, z, faces, color=(0.5, 0.5, 0.5), representation=\"surface\", figure=fig\n",
    ")\n",
    "mlab.show()"
   ]
  },
  {
   "cell_type": "code",
   "execution_count": 31,
   "id": "5fb12b74-cd27-4c43-98f2-4fb05c91a8cb",
   "metadata": {},
   "outputs": [],
   "source": [
    "dim = 3\n",
    "dtype = np.float64\n",
    "\n",
    "# Set FMM Parameters\n",
    "expansion_order = 9\n",
    "n_vec = 1\n",
    "n_crit = 10\n",
    "n_sources = sources.shape[0]\n",
    "n_targets = sources.shape[0]\n",
    "kernel = \"laplace\"  # Or 'helmholtz'\n",
    "field_translation = \"blas\"  # Or 'fft'\n",
    "kernel_eval_type = \"eval\"  # For potential graidents, or 'eval' for potentials only\n",
    "surface_diff = 2\n",
    "\n",
    "svd_settings = RandomSvdSettings(None, 10, None, None)\n",
    "\n",
    "# Set Random charges\n",
    "charges = np.reshape(\n",
    "    np.random.rand(n_sources * n_vec), (n_sources, n_vec)\n",
    ").astype(dtype)\n",
    "\n",
    "sources = sources.astype(dtype)\n",
    "\n",
    "fmm = KiFmm(\n",
    "    expansion_order,\n",
    "    sources,\n",
    "    sources,\n",
    "    charges,\n",
    "    kernel_eval_type,\n",
    "    kernel,\n",
    "    field_translation,\n",
    "    svd_threshold=None,  # Optional, required for 'blas' based field translations\n",
    "    n_crit=n_crit,\n",
    "    surface_diff=surface_diff,\n",
    "    timed=True\n",
    ")"
   ]
  },
  {
   "cell_type": "code",
   "execution_count": 32,
   "id": "9f23188d-1580-48a5-aeb3-2673fbda46de",
   "metadata": {},
   "outputs": [
    {
     "data": {
      "text/plain": [
       "(8912,)"
      ]
     },
     "execution_count": 32,
     "metadata": {},
     "output_type": "execute_result"
    }
   ],
   "source": [
    "fmm.target_leaves.shape"
   ]
  },
  {
   "cell_type": "code",
   "execution_count": 33,
   "id": "19a6347a-28e2-4023-afeb-8756b62c66b3",
   "metadata": {},
   "outputs": [],
   "source": [
    "fmm.evaluate()"
   ]
  },
  {
   "cell_type": "code",
   "execution_count": 34,
   "id": "63c40790-acf4-49d7-965e-91daed6f2a10",
   "metadata": {},
   "outputs": [
    {
     "data": {
      "text/plain": [
       "4.904103"
      ]
     },
     "execution_count": 34,
     "metadata": {},
     "output_type": "execute_result"
    }
   ],
   "source": [
    "t = datetime.min \n",
    "for op, time in fmm.times.items():\n",
    "    t += time\n",
    "runtime = t.second + t.microsecond/1e6\n",
    "runtime"
   ]
  },
  {
   "cell_type": "markdown",
   "id": "8017f3c9-3598-49a8-8f41-904a13b9758a",
   "metadata": {},
   "source": [
    "# Plot Solution"
   ]
  },
  {
   "cell_type": "code",
   "execution_count": 35,
   "id": "71ffea15-1f46-4f44-bb2c-481ec8464a54",
   "metadata": {},
   "outputs": [],
   "source": [
    "potentials = fmm.all_potentials()\n",
    "\n",
    "reordered = np.zeros_like(potentials)\n",
    "for i, j in enumerate(fmm.target_global_indices):\n",
    "    reordered[0][j] = potentials[0][i]"
   ]
  },
  {
   "cell_type": "code",
   "execution_count": 36,
   "id": "6529fb0c-185d-4200-80b2-22b8414830e8",
   "metadata": {},
   "outputs": [],
   "source": [
    "mlab.view(azimuth=40, elevation=70, distance=\"auto\", focalpoint=\"auto\")\n",
    "fig = mlab.figure(\n",
    "    size=(960, 1080), bgcolor=(1, 1, 1)\n",
    ")  # This sets the window size for rendering\n",
    "solution = mlab.triangular_mesh(\n",
    "    x, y, z, faces, scalars=np.log(reordered).flatten(), representation=\"surface\"\n",
    ")\n",
    "\n",
    "colorbar = mlab.colorbar(solution, title='Log-scaled values', orientation='vertical')\n",
    "colorbar.title_text_property.font_size = 10\n",
    "colorbar.label_text_property.font_size = 8\n",
    "mlab.show()"
   ]
  },
  {
   "cell_type": "markdown",
   "id": "f194dd78-67bd-4dbc-905a-b7e101648e93",
   "metadata": {},
   "source": [
    "# Statistics"
   ]
  },
  {
   "cell_type": "code",
   "execution_count": 56,
   "id": "a15b8a6e-011d-4da2-a4f1-76cc8213b094",
   "metadata": {},
   "outputs": [],
   "source": [
    "# Examine result at leaf index\n",
    "leaf = fmm.target_leaves[23]\n",
    "found = fmm.potentials(leaf)[0]\n",
    "targets_leaf = fmm.target_coordinates(leaf)\n",
    "expected = fmm.evaluate_kernel(sources, targets_leaf, charges)\n",
    "\n",
    "# Test\n",
    "np.testing.assert_allclose(found, expected, rtol=1e-11)"
   ]
  },
  {
   "cell_type": "code",
   "execution_count": 48,
   "id": "d8b63a0e-43d4-4de7-b54f-3efc507dd4b4",
   "metadata": {},
   "outputs": [],
   "source": [
    "stats = defaultdict(int)\n",
    "\n",
    "for leaf in fmm.target_leaves:\n",
    "    found = fmm.target_coordinates(leaf)\n",
    "    n = found.shape[0]\n",
    "    stats[n] += 1"
   ]
  },
  {
   "cell_type": "code",
   "execution_count": 49,
   "id": "a9af7353-f742-48f0-9d79-2bcd3ea24463",
   "metadata": {},
   "outputs": [],
   "source": [
    "# ! ls /Users/sri/Downloads/cmu/"
   ]
  },
  {
   "cell_type": "code",
   "execution_count": 54,
   "id": "3f64de77-d18b-4c13-85e5-e019e04f6a2d",
   "metadata": {},
   "outputs": [
    {
     "data": {
      "image/png": "[encoded data removed]",
      "text/plain": [
       "<Figure size 800x600 with 1 Axes>"
      ]
     },
     "metadata": {},
     "output_type": "display_data"
    }
   ],
   "source": [
    "# # Plot the histogram using seaborn\n",
    "sns.set_theme(style=\"whitegrid\")\n",
    "\n",
    "plt.figure(figsize=(8, 6))\n",
    "\n",
    "# Convert the dictionary to a pandas DataFrame\n",
    "data = []\n",
    "for points, occurrences in stats.items():\n",
    "    data.extend([points] * occurrences)\n",
    "\n",
    "df = pd.DataFrame(data, columns=['Points'])\n",
    "\n",
    "hist_plot = sns.histplot(df, x='Points', bins=30, color='blue', log_scale=(True, False))\n",
    "\n",
    "# Load CMU font\n",
    "# Update this path to where the CMU Serif font is located\n",
    "import matplotlib.font_manager as fm\n",
    "font_path = \"/Users/sri/Downloads/cmu/cmunrm.ttf\"\n",
    "font_properties = fm.FontProperties(fname=font_path)\n",
    "\n",
    "# # Customize the plot for publication quality\n",
    "# hist_plot.set_title('Histogram of Points in Boxes', fontsize=20)\n",
    "hist_plot.set_xlabel('Points Per Box', fontsize=15, fontproperties=font_properties)\n",
    "hist_plot.set_ylabel('Count', fontsize=15, fontproperties=font_properties)\n",
    "# Set font properties for tick labels\n",
    "for label in hist_plot.get_xticklabels():\n",
    "    label.set_fontproperties(font_properties)\n",
    "for label in hist_plot.get_yticklabels():\n",
    "    label.set_fontproperties(font_properties)\n",
    "\n",
    "plt.tight_layout()\n",
    "plt.savefig('stats.svg', format='svg')\n",
    "plt.show()"
   ]
  },
  {
   "cell_type": "code",
   "execution_count": null,
   "id": "7e0c9ac6-b058-41a3-ae83-c61553b79b14",
   "metadata": {},
   "outputs": [],
   "source": []
  }
 ],
 "metadata": {
  "kernelspec": {
   "display_name": "Python 3 (ipykernel)",
   "language": "python",
   "name": "python3"
  },
  "language_info": {
   "codemirror_mode": {
    "name": "ipython",
    "version": 3
   },
   "file_extension": ".py",
   "mimetype": "text/x-python",
   "name": "python",
   "nbconvert_exporter": "python",
   "pygments_lexer": "ipython3",
   "version": "3.10.14"
  }
 },
 "nbformat": 4,
 "nbformat_minor": 5
}
