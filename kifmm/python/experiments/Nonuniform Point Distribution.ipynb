{
 "cells": [
  {
   "cell_type": "code",
   "execution_count": 1,
   "id": "859f09ac-1e0f-40d1-87b3-3f3e16c00272",
   "metadata": {},
   "outputs": [],
   "source": [
    "# %gui qt\n",
    "from collections import defaultdict\n",
    "import numpy as np\n",
    "# from mayavi import mlab\n",
    "import matplotlib.pyplot as plt\n",
    "import pandas as pd\n",
    "import seaborn as sns\n",
    "import time\n",
    "\n",
    "from kifmm_py import (\n",
    "    KiFmm,\n",
    "    LaplaceKernel,\n",
    "    SingleNodeTree,\n",
    "    EvalType,\n",
    "    BlasFieldTranslation,\n",
    "    FftFieldTranslation,\n",
    "    read_stl_triangle_mesh_vertices,\n",
    ")"
   ]
  },
  {
   "cell_type": "code",
   "execution_count": 2,
   "id": "bca79974-3942-4ea4-9325-5314dfb064eb",
   "metadata": {},
   "outputs": [],
   "source": [
    "(sources, faces) = read_stl_triangle_mesh_vertices(\"battleship.STL\")\n",
    "x = sources[:, 0]\n",
    "y = sources[:, 1]\n",
    "z = sources[:, 2]"
   ]
  },
  {
   "cell_type": "code",
   "execution_count": 3,
   "id": "a744f8cc-2d34-4d84-9aec-cabea34cfaa2",
   "metadata": {},
   "outputs": [],
   "source": [
    "# mlab.view(azimuth=40, elevation=70, distance=\"auto\", focalpoint=\"auto\")\n",
    "# fig = mlab.figure(\n",
    "#     size=(960, 1080), bgcolor=(1, 1, 1)\n",
    "# )  # This sets the window size for rendering\n",
    "# plot = mlab.triangular_mesh(\n",
    "#     x, y, z, faces, color=(0.5, 0.5, 0.5), representation=\"points\", figure=fig\n",
    "# )\n",
    "# mlab.show()"
   ]
  },
  {
   "cell_type": "code",
   "execution_count": 4,
   "id": "a874fb41-2051-4590-9794-406d9c58b3a3",
   "metadata": {},
   "outputs": [],
   "source": [
    "dtype = np.float64\n",
    "\n",
    "# Set FMM Parameters\n",
    "n_sources = sources.shape[0]\n",
    "n_targets = sources.shape[0]\n",
    "eval_type = EvalType.Value\n",
    "direct = np.zeros(n_sources)\n",
    "\n",
    "kernel = LaplaceKernel(dtype, eval_type)\n",
    "\n",
    "sources_flattened = sources.flatten().astype(dtype)\n",
    "charges = np.ones(n_sources).astype(dtype)"
   ]
  },
  {
   "cell_type": "markdown",
   "id": "6f402cb0-c40c-4b67-8bc8-16dadefaa60a",
   "metadata": {},
   "source": [
    "#### FFT-M2L"
   ]
  },
  {
   "cell_type": "code",
   "execution_count": 19,
   "id": "55355b27-317a-4688-ab5f-9c72e516fc4f",
   "metadata": {},
   "outputs": [
    {
     "name": "stdout",
     "output_type": "stream",
     "text": [
      "runtime 5.925027132034302\n"
     ]
    }
   ],
   "source": [
    "# expansion_order = np.array([10])\n",
    "# n_crit = 15\n",
    "depth = 5\n",
    "expansion_order = np.array([10 for _ in range(depth+1)])\n",
    "\n",
    "field_translation = FftFieldTranslation(\n",
    "    kernel,\n",
    "    block_size=32   \n",
    ")\n",
    "# tree = SingleNodeTree(sources_flattened, sources_flattened, charges, n_crit=n_crit, prune_empty=True)\n",
    "tree = SingleNodeTree(sources_flattened, sources_flattened, charges, depth=depth, prune_empty=True)\n",
    "\n",
    "fmm = KiFmm(expansion_order, tree, field_translation, timed=True)\n",
    "\n",
    "s = time.time()\n",
    "fmm.evaluate()\n",
    "print(f'runtime {time.time()-s}')"
   ]
  },
  {
   "cell_type": "code",
   "execution_count": 6,
   "id": "7959c7f8-71bb-4db1-b0fc-a0f84033d2cf",
   "metadata": {},
   "outputs": [
    {
     "data": {
      "text/plain": [
       "(2184,)"
      ]
     },
     "execution_count": 6,
     "metadata": {},
     "output_type": "execute_result"
    }
   ],
   "source": [
    "fmm.leaves_source_tree.shape"
   ]
  },
  {
   "cell_type": "code",
   "execution_count": 7,
   "id": "01f36b77-5d65-4f60-b90d-5c21f90d57e8",
   "metadata": {},
   "outputs": [],
   "source": [
    "# Direct\n",
    "# fmm.evaluate_kernel_mt(eval_type, sources_flattened, sources_flattened, charges, direct)"
   ]
  },
  {
   "cell_type": "code",
   "execution_count": 8,
   "id": "74580c5c-525f-4464-98a4-1b567aa8cace",
   "metadata": {},
   "outputs": [],
   "source": [
    "# Error\n",
    "# l2 = lambda fmm, direct: print(np.sum(np.abs(fmm.all_potentials_u[0][:, 0] - direct))/np.sum(np.abs(direct)))"
   ]
  },
  {
   "cell_type": "code",
   "execution_count": 9,
   "id": "71e81415-2b37-4e24-b3d2-aadfff44abaa",
   "metadata": {},
   "outputs": [],
   "source": [
    "# FFT-M2L error\n",
    "# l2(fmm, direct)"
   ]
  },
  {
   "cell_type": "code",
   "execution_count": 10,
   "id": "93cc6acf-b7f2-411c-85a8-2d403a02bdc6",
   "metadata": {},
   "outputs": [],
   "source": [
    "# e_vec = [10, 10, 10, 10, 10, 10, 10, 10, 10, 10, 10, 10]\n",
    "# threshold_vec = [1e-9, 1e-11, 1e-13, 1e-15, 1e-9, 1e-11, 1e-13, 1e-15]\n",
    "# diff_vec = [0, 0, 0, 0, 1, 1, 1, 1]\n",
    "\n",
    "# for (expansion_order, threshold, surface_diff) in zip(e_vec, threshold_vec, diff_vec):\n",
    "#     # n_crit = 15\n",
    "#     # field_translation = BlasFieldTranslation(\n",
    "#     #     kernel,\n",
    "#     #     svd_threshold=dtype(threshold),\n",
    "#     #     surface_diff=surface_diff,\n",
    "#     #     random=True,\n",
    "#     #     n_oversamples=20,\n",
    "#     # )\n",
    "#     # tree = SingleNodeTree(sources_flattened, sources_flattened, charges, n_crit=n_crit, prune_empty=True)\n",
    "#     # s = time.time()\n",
    "#     # fmm = KiFmm(np.array([expansion_order]), tree, field_translation, timed=True)\n",
    "#     # print(f'setup took {time.time()-s}')\n",
    "    \n",
    "#     depth = 5\n",
    "#     field_translation = BlasFieldTranslation(\n",
    "#         kernel,\n",
    "#         svd_threshold=dtype(threshold),\n",
    "#         surface_diff=surface_diff,\n",
    "#         random=True,\n",
    "#         n_oversamples=20,\n",
    "#     )\n",
    "#     tree = SingleNodeTree(sources_flattened, sources_flattened, charges, depth=depth, prune_empty=True)\n",
    "#     s = time.time()\n",
    "#     fmm = KiFmm(np.array([expansion_order for _ in range(depth+1)]), tree, field_translation, timed=True)\n",
    "#     print(f'setup took {time.time()-s}')\n",
    "\n",
    "#     s = time.time()\n",
    "#     fmm.evaluate()\n",
    "#     print(f'order {expansion_order} threshold {threshold} surface_diff {surface_diff } runtime {time.time()-s}')\n",
    "#     print()\n",
    "\n",
    "#     # Error\n",
    "#     l2(fmm, direct)"
   ]
  },
  {
   "cell_type": "code",
   "execution_count": 13,
   "id": "8e17f336-874f-471c-954e-b0d83e4a944b",
   "metadata": {},
   "outputs": [
    {
     "name": "stdout",
     "output_type": "stream",
     "text": [
      "setup took 150.7300660610199\n",
      "order [10 10 10 10 10 10] threshold 1e-11 surface_diff 1 runtime 5.056733846664429\n",
      "\n"
     ]
    }
   ],
   "source": [
    "# n_crit = 15\n",
    "# field_translation = BlasFieldTranslation(\n",
    "#         kernel,\n",
    "#         svd_threshold=dtype(1e-11),\n",
    "#         surface_diff=1,\n",
    "#         random=True,\n",
    "#         n_oversamples=20,\n",
    "# )\n",
    "# tree = SingleNodeTree(sources_flattened, sources_flattened, charges, n_crit=n_crit, prune_empty=True)\n",
    "# s = time.time()\n",
    "# fmm = KiFmm(np.array([10]), tree, field_translation, timed=True)\n",
    "# print(f'setup took {time.time()-s}')\n",
    "\n",
    "depth = 5\n",
    "expansion_order = np.array([10 for _ in range(depth + 1)])\n",
    "threshold = 1e-11\n",
    "surface_diff = 1\n",
    "\n",
    "field_translation = BlasFieldTranslation(\n",
    "        kernel,\n",
    "        svd_threshold=dtype(threshold),\n",
    "        surface_diff=surface_diff,\n",
    "        random=True,\n",
    "        n_oversamples=20,\n",
    ")\n",
    "tree = SingleNodeTree(sources_flattened, sources_flattened, charges, depth=depth, prune_empty=True)\n",
    "s = time.time()\n",
    "fmm = KiFmm(expansion_order, tree, field_translation, timed=True)\n",
    "print(f'setup took {time.time()-s}')\n",
    "\n",
    "s = time.time()\n",
    "fmm.evaluate()\n",
    "print(f'order {expansion_order} threshold {threshold} surface_diff {surface_diff } runtime {time.time()-s}')\n",
    "print()\n",
    "\n",
    "# # Error\n",
    "# l2(fmm, direct)"
   ]
  },
  {
   "cell_type": "markdown",
   "id": "254f885d-5993-4ba8-83d9-7de1d4151cf1",
   "metadata": {},
   "source": [
    "#### FFT-M2L"
   ]
  },
  {
   "cell_type": "code",
   "execution_count": 14,
   "id": "3d35b8a2-a4f2-45c6-93b1-81bf2c032578",
   "metadata": {},
   "outputs": [],
   "source": [
    "dtype = np.float64\n",
    "\n",
    "# Set FMM Parameters\n",
    "n_sources = sources.shape[0]\n",
    "n_targets = sources.shape[0]\n",
    "eval_type = EvalType.Value\n",
    "direct = np.zeros(n_sources)\n",
    "\n",
    "kernel = LaplaceKernel(dtype, eval_type)\n",
    "\n",
    "uniform = np.random.rand(n_sources, 3)\n",
    "uniform_flattened = uniform.flatten().astype(dtype)\n",
    "charges = np.ones(n_sources).astype(dtype)"
   ]
  },
  {
   "cell_type": "code",
   "execution_count": 17,
   "id": "cda1d72a-9984-4856-ac14-361b3b2979c9",
   "metadata": {},
   "outputs": [
    {
     "name": "stdout",
     "output_type": "stream",
     "text": [
      "runtime uniform 3.9333434104919434\n"
     ]
    }
   ],
   "source": [
    "depth = 4\n",
    "expansion_order = np.array([10 for _ in range(depth + 1)])\n",
    "\n",
    "field_translation = FftFieldTranslation(\n",
    "    kernel,\n",
    "    block_size=32   \n",
    ")\n",
    "\n",
    "tree = SingleNodeTree(uniform_flattened, uniform_flattened, charges, depth=depth, prune_empty=True)\n",
    "fmm = KiFmm(expansion_order, tree, field_translation, timed=True)\n",
    "\n",
    "s = time.time()\n",
    "fmm.evaluate()\n",
    "print(f'runtime uniform {time.time()-s}')"
   ]
  },
  {
   "cell_type": "markdown",
   "id": "067f7b19-df94-4b9f-9239-e27648b6ea94",
   "metadata": {},
   "source": [
    "#### BLAS-M2L"
   ]
  },
  {
   "cell_type": "code",
   "execution_count": 18,
   "id": "47cf0615-233a-4342-aae8-24ae5748e589",
   "metadata": {},
   "outputs": [
    {
     "name": "stdout",
     "output_type": "stream",
     "text": [
      "setup took 160.24874591827393\n",
      "order [10 10 10 10 10] threshold 1e-11 surface_diff 1 runtime 4.74946665763855\n",
      "\n"
     ]
    }
   ],
   "source": [
    "field_translation = BlasFieldTranslation(\n",
    "        kernel,\n",
    "        svd_threshold=dtype(1e-11),\n",
    "        surface_diff=1,\n",
    "        random=True,\n",
    "        n_oversamples=20,\n",
    ")\n",
    "tree = SingleNodeTree(uniform_flattened, uniform_flattened, charges, depth=depth, prune_empty=True)\n",
    "s = time.time()\n",
    "fmm = KiFmm(expansion_order, tree, field_translation, timed=True)\n",
    "print(f'setup took {time.time()-s}')\n",
    "\n",
    "s = time.time()\n",
    "fmm.evaluate()\n",
    "print(f'order {expansion_order} threshold {threshold} surface_diff {surface_diff } runtime {time.time()-s}')\n",
    "print()\n",
    "\n",
    "# Error\n",
    "# l2(fmm, direct)"
   ]
  },
  {
   "cell_type": "markdown",
   "id": "a3e52e08-a2c0-473a-9c43-8d5a9fb47b12",
   "metadata": {},
   "source": [
    "# Plot Solution"
   ]
  },
  {
   "cell_type": "code",
   "execution_count": 21,
   "id": "f615beab-0210-48e1-8170-dfa360d8d5bb",
   "metadata": {},
   "outputs": [],
   "source": [
    "# mlab.view(azimuth=40, elevation=70, distance=\"auto\", focalpoint=\"auto\")\n",
    "# fig = mlab.figure(\n",
    "#     size=(960, 1080), bgcolor=(1, 1, 1)\n",
    "# )  # This sets the window size for rendering\n",
    "# solution = mlab.triangular_mesh(\n",
    "#     x,\n",
    "#     y,\n",
    "#     z,\n",
    "#     faces,\n",
    "#     scalars=np.log(fmm.all_potentials_u[0][:, 0]),\n",
    "#     representation=\"surface\",\n",
    "# )\n",
    "\n",
    "# colorbar = mlab.colorbar(solution, title=\"Log-scaled values\", orientation=\"vertical\")\n",
    "# colorbar.title_text_property.font_size = 10\n",
    "# colorbar.label_text_property.font_size = 8\n",
    "# mlab.show()"
   ]
  },
  {
   "cell_type": "markdown",
   "id": "88525acc-aae5-4ccf-a069-0229429584ef",
   "metadata": {},
   "source": [
    "# Statistics"
   ]
  },
  {
   "cell_type": "code",
   "execution_count": 22,
   "id": "91893002-cd58-49e6-b421-0c4d3f6d7c1f",
   "metadata": {
    "scrolled": true
   },
   "outputs": [],
   "source": [
    "stats = defaultdict(int)\n",
    "\n",
    "for leaf in fmm.leaves_target_tree:\n",
    "    found = fmm.coordinates_target_tree(leaf)\n",
    "    n = found.shape[0]\n",
    "    stats[n] += 1"
   ]
  },
  {
   "cell_type": "code",
   "execution_count": 37,
   "id": "6ae7f253-fc1b-4ee2-8d5c-ced227dba336",
   "metadata": {},
   "outputs": [
    {
     "data": {
      "image/png": "[encoded data removed]",
      "text/plain": [
       "<Figure size 800x600 with 1 Axes>"
      ]
     },
     "metadata": {},
     "output_type": "display_data"
    }
   ],
   "source": [
    "# # Plot the histogram using seaborn\n",
    "sns.set_theme(style=\"whitegrid\")\n",
    "\n",
    "plt.figure(figsize=(8, 6))\n",
    "\n",
    "# Convert the dictionary to a pandas DataFrame\n",
    "data = []\n",
    "for points, occurrences in stats.items():\n",
    "    data.extend([points] * occurrences)\n",
    "\n",
    "df = pd.DataFrame(data, columns=[\"Points\"])\n",
    "\n",
    "hist_plot = sns.histplot(\n",
    "    df, x=\"Points\", bins=len(stats), color=\"black\", log_scale=(True, False)\n",
    ")\n",
    "\n",
    "# # Load CMU font\n",
    "# import matplotlib.font_manager as fm\n",
    "\n",
    "# font_path = \"/Users/sri/Downloads/cmu/cmunrm.ttf\"\n",
    "# font_properties = fm.FontProperties(fname=font_path)\n",
    "\n",
    "# hist_plot.set_xlabel(\"Points Per Leaf Box\", fontsize=15, fontproperties=font_properties)\n",
    "# hist_plot.set_ylabel(\"Count\", fontsize=15, fontproperties=font_properties)\n",
    "\n",
    "hist_plot.set_xlabel(\"Points Per Leaf Box\", fontsize=15)\n",
    "hist_plot.set_ylabel(\"Count\", fontsize=15)\n",
    "\n",
    "hist_plot.set_ybound(lower=None, upper=117)\n",
    "# Set font properties for tick labels\n",
    "# for label in hist_plot.get_xticklabels():\n",
    "    # label.set_fontproperties(font_properties)\n",
    "# for label in hist_plot.get_yticklabels():\n",
    "    # label.set_fontproperties(font_properties)\n",
    "\n",
    "plt.ylim(0, 40)\n",
    "plt.tight_layout() \n",
    "plt.savefig(\"stats.svg\", format=\"svg\")\n",
    "plt.show()"
   ]
  },
  {
   "cell_type": "code",
   "execution_count": null,
   "id": "9d00829b-4de1-4b75-8cce-571390d86b7e",
   "metadata": {},
   "outputs": [],
   "source": []
  },
  {
   "cell_type": "code",
   "execution_count": null,
   "id": "f2678b7d-7d6c-4c12-9a53-7b9693631619",
   "metadata": {},
   "outputs": [],
   "source": []
  }
 ],
 "metadata": {
  "kernelspec": {
   "display_name": "Python 3 (ipykernel)",
   "language": "python",
   "name": "python3"
  },
  "language_info": {
   "codemirror_mode": {
    "name": "ipython",
    "version": 3
   },
   "file_extension": ".py",
   "mimetype": "text/x-python",
   "name": "python",
   "nbconvert_exporter": "python",
   "pygments_lexer": "ipython3",
   "version": "3.10.12"
  }
 },
 "nbformat": 4,
 "nbformat_minor": 5
}
