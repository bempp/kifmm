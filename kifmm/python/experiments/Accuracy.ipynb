{
 "cells": [
  {
   "cell_type": "code",
   "execution_count": 2,
   "id": "61648239-bda5-4370-ba7c-b0189ccce630",
   "metadata": {},
   "outputs": [],
   "source": [
    "import numpy as np\n",
    "from kifmm_py import KiFmm"
   ]
  },
  {
   "cell_type": "markdown",
   "id": "aedbe5b3-02f2-4c1e-bb6a-db57c6669712",
   "metadata": {},
   "source": [
    "# Single Precision"
   ]
  },
  {
   "cell_type": "code",
   "execution_count": 100,
   "id": "63fcbfe5-deed-45d3-9a45-42b89182c2b2",
   "metadata": {},
   "outputs": [],
   "source": [
    "np.random.seed(0)\n",
    "\n",
    "dim = 3\n",
    "dtype = np.float32\n",
    "ctype = np.complex64\n",
    "\n",
    "# Set FMM Parameters\n",
    "expansion_order = 4 # Single expansion order\n",
    "n_vec = 1\n",
    "n_crit = None\n",
    "depth = 3\n",
    "if depth:\n",
    "    expansion_order = [expansion_order]*(depth+1)\n",
    "n_sources = 1000000\n",
    "n_targets = 1000000\n",
    "kernel = \"laplace\"  # Or 'helmholtz'\n",
    "field_translation = \"blas\"  # Or 'fft'\n",
    "kernel_eval_type = (\n",
    "    \"eval\"  # For potentials, or 'eval_deriv' for potentials and gradients\n",
    ")\n",
    "\n",
    "# Setup source/target/charge data in Fortran order\n",
    "sources = np.reshape(\n",
    "    np.random.rand(n_sources * dim), (n_sources, dim)\n",
    ").astype(dtype)\n",
    "targets = np.reshape(\n",
    "    np.random.rand(n_targets * dim), (n_targets, dim)\n",
    ").astype(dtype)\n",
    "charges = np.reshape(\n",
    "    np.random.rand(n_sources * n_vec), (n_sources, n_vec)\n",
    ").astype(dtype)\n",
    "\n",
    "fmm = KiFmm(\n",
    "    expansion_order,\n",
    "    sources,\n",
    "    targets,\n",
    "    charges,\n",
    "    kernel_eval_type,\n",
    "    kernel,\n",
    "    field_translation,\n",
    "    prune_empty=True,\n",
    "    timed=True,\n",
    "    svd_threshold=None,\n",
    "    # n_crit=n_crit,\n",
    "    surface_diff=0,\n",
    "    depth=depth\n",
    ")\n",
    "\n",
    "# Run the FMM\n",
    "fmm.evaluate()\n",
    "\n",
    "# Examine result at leaf index\n",
    "leaf = fmm.target_leaves[1]\n",
    "found = fmm.potentials(leaf)[0]\n",
    "targets_leaf = fmm.target_coordinates(leaf)\n",
    "expected = fmm.evaluate_kernel(sources, targets_leaf, charges)\n",
    "\n",
    "relative_error = np.abs(expected-found)/expected\n",
    "# Test\n",
    "# np.testing.assert_allclose(found, expected, rtol=1e-5)"
   ]
  },
  {
   "cell_type": "code",
   "execution_count": 101,
   "id": "8cbc57e4-7fd3-42e4-a15a-6e2a409b32ab",
   "metadata": {},
   "outputs": [
    {
     "data": {
      "text/plain": [
       "[4, 4, 4, 4]"
      ]
     },
     "execution_count": 101,
     "metadata": {},
     "output_type": "execute_result"
    }
   ],
   "source": [
    "expansion_order"
   ]
  },
  {
   "cell_type": "code",
   "execution_count": 102,
   "id": "b483207e-2c98-4749-a6db-5ea29d6c13d9",
   "metadata": {},
   "outputs": [],
   "source": [
    "max_relative_error = np.max(relative_error)\n",
    "min_relative_error = np.min(relative_error)\n",
    "mean_relative_error = np.mean(relative_error)"
   ]
  },
  {
   "cell_type": "code",
   "execution_count": 103,
   "id": "257ca17f-6d3a-4247-b612-0e1087bc6591",
   "metadata": {},
   "outputs": [
    {
     "data": {
      "text/plain": [
       "0.00021652521"
      ]
     },
     "execution_count": 103,
     "metadata": {},
     "output_type": "execute_result"
    }
   ],
   "source": [
    "max_relative_error"
   ]
  },
  {
   "cell_type": "code",
   "execution_count": 104,
   "id": "0df83b20-3060-4829-bde7-eea2f42d01f5",
   "metadata": {},
   "outputs": [
    {
     "data": {
      "text/plain": [
       "7.506009e-07"
      ]
     },
     "execution_count": 104,
     "metadata": {},
     "output_type": "execute_result"
    }
   ],
   "source": [
    "min_relative_error"
   ]
  },
  {
   "cell_type": "code",
   "execution_count": 105,
   "id": "7fe626cf-1e14-46b5-a5ce-22195505e927",
   "metadata": {},
   "outputs": [
    {
     "data": {
      "text/plain": [
       "4.1538642e-05"
      ]
     },
     "execution_count": 105,
     "metadata": {},
     "output_type": "execute_result"
    }
   ],
   "source": [
    "mean_relative_error"
   ]
  },
  {
   "cell_type": "code",
   "execution_count": null,
   "id": "00f81a10-bfcb-4a80-b230-4d915bc54fb7",
   "metadata": {},
   "outputs": [],
   "source": []
  }
 ],
 "metadata": {
  "kernelspec": {
   "display_name": "Python 3 (ipykernel)",
   "language": "python",
   "name": "python3"
  },
  "language_info": {
   "codemirror_mode": {
    "name": "ipython",
    "version": 3
   },
   "file_extension": ".py",
   "mimetype": "text/x-python",
   "name": "python",
   "nbconvert_exporter": "python",
   "pygments_lexer": "ipython3",
   "version": "3.10.14"
  }
 },
 "nbformat": 4,
 "nbformat_minor": 5
}
