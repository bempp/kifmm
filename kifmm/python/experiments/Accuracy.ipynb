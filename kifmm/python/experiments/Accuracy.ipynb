{
 "cells": [
  {
   "cell_type": "code",
   "execution_count": 5,
   "id": "61648239-bda5-4370-ba7c-b0189ccce630",
   "metadata": {},
   "outputs": [],
   "source": [
    "%matplotlib inline\n",
    "import itertools\n",
    "\n",
    "import matplotlib.pyplot as plt\n",
    "import numpy as np\n",
    "from kifmm_py import KiFmm"
   ]
  },
  {
   "cell_type": "markdown",
   "id": "aedbe5b3-02f2-4c1e-bb6a-db57c6669712",
   "metadata": {},
   "source": [
    "# Single Precision - BLAS Field Translations"
   ]
  },
  {
   "cell_type": "code",
   "execution_count": 31,
   "id": "96456bd1-0bd1-40d7-96bf-5fb53ddf20bc",
   "metadata": {},
   "outputs": [],
   "source": [
    "surface_diff_vec = [0, 1, 2]\n",
    "svd_threshold_vec = [None, 1e-7, 1e-6, 1e-5, 1e-4, 1e-3, 1e-2, 1e-1, 2e-2]\n",
    "depth_vec = [3, 4, 5]\n",
    "expansion_order_vec = [3, 4, 5, 6]\n",
    "\n",
    "parameters = list(itertools.product(surface_diff_vec, svd_threshold_vec, depth_vec, expansion_order_vec))"
   ]
  },
  {
   "cell_type": "code",
   "execution_count": 30,
   "id": "c74c9a1d-c008-4b9b-926e-0b37121b38b2",
   "metadata": {
    "scrolled": true
   },
   "outputs": [
    {
     "name": "stdout",
     "output_type": "stream",
     "text": [
      "Computing: 1/81\n",
      "Computing: 2/81\n",
      "Computing: 3/81\n",
      "Computing: 4/81\n",
      "Computing: 5/81\n",
      "Computing: 6/81\n",
      "Computing: 7/81\n"
     ]
    },
    {
     "ename": "KeyboardInterrupt",
     "evalue": "",
     "output_type": "error",
     "traceback": [
      "\u001b[0;31m---------------------------------------------------------------------------\u001b[0m",
      "\u001b[0;31mKeyboardInterrupt\u001b[0m                         Traceback (most recent call last)",
      "Cell \u001b[0;32mIn[30], line 50\u001b[0m\n\u001b[1;32m     34\u001b[0m tmp \u001b[38;5;241m=\u001b[39m [expansion_order]\u001b[38;5;241m*\u001b[39m(depth\u001b[38;5;241m+\u001b[39m\u001b[38;5;241m1\u001b[39m)\n\u001b[1;32m     35\u001b[0m fmm \u001b[38;5;241m=\u001b[39m KiFmm(\n\u001b[1;32m     36\u001b[0m     tmp,\n\u001b[1;32m     37\u001b[0m     sources,\n\u001b[0;32m   (...)\u001b[0m\n\u001b[1;32m     47\u001b[0m     depth\u001b[38;5;241m=\u001b[39mdepth\n\u001b[1;32m     48\u001b[0m )\n\u001b[0;32m---> 50\u001b[0m \u001b[43mfmm\u001b[49m\u001b[38;5;241;43m.\u001b[39;49m\u001b[43mevaluate\u001b[49m\u001b[43m(\u001b[49m\u001b[43m)\u001b[49m\n\u001b[1;32m     52\u001b[0m leaf \u001b[38;5;241m=\u001b[39m fmm\u001b[38;5;241m.\u001b[39mtarget_leaves[\u001b[38;5;241m1\u001b[39m]\n\u001b[1;32m     53\u001b[0m found \u001b[38;5;241m=\u001b[39m fmm\u001b[38;5;241m.\u001b[39mpotentials(leaf)[\u001b[38;5;241m0\u001b[39m]\n",
      "File \u001b[0;32m~/Code/kifmm/kifmm/python/kifmm_py/api.py:303\u001b[0m, in \u001b[0;36mKiFmm.evaluate\u001b[0;34m(self)\u001b[0m\n\u001b[1;32m    301\u001b[0m \u001b[38;5;28;01mdef\u001b[39;00m \u001b[38;5;21mevaluate\u001b[39m(\u001b[38;5;28mself\u001b[39m):\n\u001b[1;32m    302\u001b[0m \u001b[38;5;250m    \u001b[39m\u001b[38;5;124;03m\"\"\"Run the FMM.\"\"\"\u001b[39;00m\n\u001b[0;32m--> 303\u001b[0m     \u001b[38;5;28mself\u001b[39m\u001b[38;5;241m.\u001b[39mtimes \u001b[38;5;241m=\u001b[39m \u001b[38;5;28;43mself\u001b[39;49m\u001b[38;5;241;43m.\u001b[39;49m\u001b[43mfmm\u001b[49m\u001b[38;5;241;43m.\u001b[39;49m\u001b[43mevaluate\u001b[49m\u001b[43m(\u001b[49m\u001b[38;5;28;43mself\u001b[39;49m\u001b[38;5;241;43m.\u001b[39;49m\u001b[43mtimed\u001b[49m\u001b[43m)\u001b[49m\n",
      "\u001b[0;31mKeyboardInterrupt\u001b[0m: "
     ]
    }
   ],
   "source": [
    "np.random.seed(0)\n",
    "\n",
    "dim = 3\n",
    "dtype = np.float32\n",
    "ctype = np.complex64\n",
    "\n",
    "# Set FMM Parameters\n",
    "n_vec = 1\n",
    "n_crit = None\n",
    "depth = 3\n",
    "n_sources = 1000000\n",
    "n_targets = 1000000\n",
    "kernel = \"laplace\" \n",
    "field_translation = \"blas\"  \n",
    "kernel_eval_type = (\n",
    "    \"eval\"  \n",
    ")\n",
    "\n",
    "sources = np.reshape(\n",
    "    np.random.rand(n_sources * dim), (n_sources, dim)\n",
    ").astype(dtype)\n",
    "targets = np.reshape(\n",
    "    np.random.rand(n_targets * dim), (n_targets, dim)\n",
    ").astype(dtype)\n",
    "charges = np.reshape(\n",
    "    np.random.rand(n_sources * n_vec), (n_sources, n_vec)\n",
    ").astype(dtype)\n",
    "\n",
    "rel_error = []\n",
    "\n",
    "for (i, (surface_diff, svd_threshold, depth, expansion_order)) in enumerate(parameters):\n",
    "    print(f\"Computing: {i+1}/{len(parameters)}\")\n",
    "    tmp = [expansion_order]*(depth+1)\n",
    "    fmm = KiFmm(\n",
    "        tmp,\n",
    "        sources,\n",
    "        targets,\n",
    "        charges,\n",
    "        kernel_eval_type,\n",
    "        kernel,\n",
    "        field_translation,\n",
    "        prune_empty=True,\n",
    "        timed=True,\n",
    "        svd_threshold=svd_threshold,\n",
    "        surface_diff=surface_diff,\n",
    "        depth=depth\n",
    "    )\n",
    "\n",
    "    fmm.evaluate()\n",
    "\n",
    "    leaf = fmm.target_leaves[1]\n",
    "    found = fmm.potentials(leaf)[0]\n",
    "    targets_leaf = fmm.target_coordinates(leaf)\n",
    "    expected = fmm.evaluate_kernel(sources, targets_leaf, charges)\n",
    "\n",
    "    relative_error = np.abs(expected-found)/expected\n",
    "    max_relative_error = np.max(relative_error)\n",
    "    min_relative_error = np.min(relative_error)\n",
    "    mean_relative_error = np.mean(relative_error)\n",
    "\n",
    "    rel_error.append((min_relative_error, mean_relative_error, max_relative_error))"
   ]
  },
  {
   "cell_type": "code",
   "execution_count": null,
   "id": "00f81a10-bfcb-4a80-b230-4d915bc54fb7",
   "metadata": {},
   "outputs": [],
   "source": []
  }
 ],
 "metadata": {
  "kernelspec": {
   "display_name": "Python 3 (ipykernel)",
   "language": "python",
   "name": "python3"
  },
  "language_info": {
   "codemirror_mode": {
    "name": "ipython",
    "version": 3
   },
   "file_extension": ".py",
   "mimetype": "text/x-python",
   "name": "python",
   "nbconvert_exporter": "python",
   "pygments_lexer": "ipython3",
   "version": "3.10.14"
  }
 },
 "nbformat": 4,
 "nbformat_minor": 5
}
