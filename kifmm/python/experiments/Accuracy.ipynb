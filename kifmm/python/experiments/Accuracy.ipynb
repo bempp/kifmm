{
 "cells": [
  {
   "cell_type": "code",
   "execution_count": 68,
   "id": "61648239-bda5-4370-ba7c-b0189ccce630",
   "metadata": {},
   "outputs": [],
   "source": [
    "%matplotlib inline\n",
    "import itertools\n",
    "from time import time\n",
    "import csv\n",
    "\n",
    "\n",
    "import matplotlib.pyplot as plt\n",
    "import numpy as np\n",
    "import pandas as pd\n",
    "\n",
    "from kifmm_py import KiFmm"
   ]
  },
  {
   "cell_type": "markdown",
   "id": "06352fad-7b06-4482-ac8f-3f689171c9e5",
   "metadata": {},
   "source": [
    "# Contents\n",
    "- [Single Precision](#single-precision)\n",
    "- [Double Precision](#double-precision)"
   ]
  },
  {
   "cell_type": "markdown",
   "id": "20fcac92-fc8f-4103-abb3-a4326311f95a",
   "metadata": {},
   "source": [
    "# Single Precision"
   ]
  },
  {
   "cell_type": "markdown",
   "id": "aedbe5b3-02f2-4c1e-bb6a-db57c6669712",
   "metadata": {},
   "source": [
    "### BLAS Field Translations"
   ]
  },
  {
   "cell_type": "code",
   "execution_count": 69,
   "id": "c74c9a1d-c008-4b9b-926e-0b37121b38b2",
   "metadata": {
    "scrolled": true
   },
   "outputs": [],
   "source": [
    "# np.random.seed(0)\n",
    "# surface_diff_vec = [0, 1, 2]\n",
    "# svd_threshold_vec = [None, 1e-7, 1e-6, 1e-5, 1e-4, 1e-3, 1e-2, 1e-1, 2e-2]\n",
    "# depth_vec = [4, 5]\n",
    "# expansion_order_vec = [3, 4, 5, 6]\n",
    "\n",
    "# parameters = list(itertools.product(surface_diff_vec, svd_threshold_vec, depth_vec, expansion_order_vec))\n",
    "\n",
    "# dim = 3\n",
    "# dtype = np.float32\n",
    "# ctype = np.complex64\n",
    "\n",
    "# # Set FMM Parameters\n",
    "# n_vec = 1\n",
    "# n_crit = None\n",
    "# depth = 3\n",
    "# n_sources = 1000000\n",
    "# n_targets = 1000000\n",
    "# kernel = \"laplace\" \n",
    "# field_translation = \"blas\"  \n",
    "# kernel_eval_type = (\n",
    "#     \"eval\"  \n",
    "# )\n",
    "\n",
    "# sources = np.reshape(\n",
    "#     np.random.rand(n_sources * dim), (n_sources, dim)\n",
    "# ).astype(dtype)\n",
    "# targets = np.reshape(\n",
    "#     np.random.rand(n_targets * dim), (n_targets, dim)\n",
    "# ).astype(dtype)\n",
    "# charges = np.reshape(\n",
    "#     np.random.rand(n_sources * n_vec), (n_sources, n_vec)\n",
    "# ).astype(dtype)\n",
    "\n",
    "# rel_error = []\n",
    "# times = []\n",
    "# setup = []\n",
    "\n",
    "# for (i, (surface_diff, svd_threshold, depth, expansion_order)) in enumerate(parameters):\n",
    "#     tmp = [expansion_order]*(depth+1)\n",
    "\n",
    "#     s = time()\n",
    "#     fmm = KiFmm(\n",
    "#         tmp,\n",
    "#         sources,\n",
    "#         targets,\n",
    "#         charges,\n",
    "#         kernel_eval_type,\n",
    "#         kernel,\n",
    "#         field_translation,\n",
    "#         prune_empty=True,\n",
    "#         timed=True,\n",
    "#         svd_threshold=svd_threshold,\n",
    "#         surface_diff=surface_diff,\n",
    "#         depth=depth\n",
    "#     )\n",
    "#     setup.append(time()-s)\n",
    "\n",
    "#     s = time()\n",
    "#     fmm.evaluate()\n",
    "#     times.append(time()-s)\n",
    "#     print(f\"Computing: {i+1}/{len(parameters)} Eval Time: {times[i]}\")\n",
    "        \n",
    "#     leaf = fmm.target_leaves[1]\n",
    "#     found = fmm.potentials(leaf)[0]\n",
    "#     targets_leaf = fmm.target_coordinates(leaf)\n",
    "#     expected = fmm.evaluate_kernel(sources, targets_leaf, charges)\n",
    "\n",
    "#     relative_error = np.abs(expected-found)/expected\n",
    "\n",
    "#     max_relative_error = np.max(relative_error)\n",
    "#     min_relative_error = np.min(relative_error)\n",
    "#     mean_relative_error = np.mean(relative_error)\n",
    "\n",
    "#     rel_error.append((min_relative_error, mean_relative_error, max_relative_error))\n",
    "\n",
    "\n",
    "# with open('accuracy_single_precision_blas.csv', mode='w', newline='') as f:\n",
    "#     writer = csv.writer(f)\n",
    "#     writer.writerow(['surface_diff', 'svd_threshold', 'depth', 'expansion_order', 'time', 'min_rel_err', 'mean_rel_err', 'max_rel_err'])\n",
    "#     for row in zip(parameters, times, rel_error):\n",
    "#         writer.writerow([row[0][0], row[0][1], row[0][2], row[0][3], row[1], row[2][0], row[2][1], row[2][2]])"
   ]
  },
  {
   "cell_type": "markdown",
   "id": "838068b9-1418-4289-9cf0-aaf3afbe4473",
   "metadata": {},
   "source": [
    "### FFT Field Translations"
   ]
  },
  {
   "cell_type": "code",
   "execution_count": 70,
   "id": "ee0ce2d5-c833-4d00-a9a8-e8510dd8597a",
   "metadata": {},
   "outputs": [],
   "source": [
    "# np.random.seed(0)\n",
    "\n",
    "# depth_vec = [4, 5]\n",
    "# expansion_order_vec = [3, 4, 5, 6, 7, 8]\n",
    "\n",
    "# parameters = list(itertools.product(depth_vec, expansion_order_vec))\n",
    "\n",
    "# np.random.seed(0)\n",
    "\n",
    "# dim = 3\n",
    "# dtype = np.float32\n",
    "# ctype = np.complex64\n",
    "\n",
    "# # Set FMM Parameters\n",
    "# n_vec = 1\n",
    "# n_crit = None\n",
    "# n_sources = 1000000\n",
    "# n_targets = 1000000\n",
    "# kernel = \"laplace\" \n",
    "# field_translation = \"fft\"  \n",
    "# kernel_eval_type = (\n",
    "#     \"eval\"  \n",
    "# )\n",
    "\n",
    "# sources = np.reshape(\n",
    "#     np.random.rand(n_sources * dim), (n_sources, dim)\n",
    "# ).astype(dtype)\n",
    "# targets = np.reshape(\n",
    "#     np.random.rand(n_targets * dim), (n_targets, dim)\n",
    "# ).astype(dtype)\n",
    "# charges = np.reshape(\n",
    "#     np.random.rand(n_sources * n_vec), (n_sources, n_vec)\n",
    "# ).astype(dtype)\n",
    "\n",
    "# rel_error = []\n",
    "# times = []\n",
    "# setup = []\n",
    "\n",
    "\n",
    "# for (i, (depth, expansion_order)) in enumerate(parameters):\n",
    "#     tmp = [expansion_order]*(depth+1)\n",
    "#     s = time()\n",
    "#     fmm = KiFmm(\n",
    "#         tmp,\n",
    "#         sources,\n",
    "#         targets,\n",
    "#         charges,\n",
    "#         kernel_eval_type,\n",
    "#         kernel,\n",
    "#         field_translation,\n",
    "#         prune_empty=True,\n",
    "#         timed=True,\n",
    "#         depth=depth\n",
    "#     )\n",
    "#     setup.append(time()-s)\n",
    "\n",
    "#     s = time()\n",
    "#     fmm.evaluate()\n",
    "#     times.append(time()-s)\n",
    "#     print(f\"Computing: {i+1}/{len(parameters)} Eval Time: {times[i]}\")\n",
    "        \n",
    "#     leaf = fmm.target_leaves[1]\n",
    "#     found = fmm.potentials(leaf)[0]\n",
    "#     targets_leaf = fmm.target_coordinates(leaf)\n",
    "#     expected = fmm.evaluate_kernel(sources, targets_leaf, charges)\n",
    "\n",
    "#     relative_error = np.abs(expected-found)/expected\n",
    "\n",
    "#     max_relative_error = np.max(relative_error)\n",
    "#     min_relative_error = np.min(relative_error)\n",
    "#     mean_relative_error = np.mean(relative_error)\n",
    "\n",
    "#     rel_error.append((min_relative_error, mean_relative_error, max_relative_error))\n",
    "\n",
    "# with open('accuracy_single_precision_fft.csv', mode='w', newline='') as f:\n",
    "#     writer = csv.writer(f)\n",
    "#     writer.writerow(['depth', 'expansion_order', 'time', 'min_rel_err', 'mean_rel_err', 'max_rel_err'])\n",
    "#     for row in zip(parameters, times, rel_error):\n",
    "#         writer.writerow([row[0][0], row[0][1], row[1], row[2][0], row[2][1], row[2][2]])"
   ]
  },
  {
   "cell_type": "markdown",
   "id": "cca7d042-95ad-44e9-9684-8ae114cdcb81",
   "metadata": {
    "scrolled": true
   },
   "source": [
    "### Examine Parameters"
   ]
  },
  {
   "cell_type": "code",
   "execution_count": 71,
   "id": "ff143486-e341-49f5-835c-e0c8e0bbe80a",
   "metadata": {},
   "outputs": [],
   "source": [
    "blas = pd.read_csv('accuracy_single_precision_blas.csv')\n",
    "fft = pd.read_csv('accuracy_single_precision_fft.csv')\n",
    "\n",
    "# Filter for max rel error with given number of digits in final solution\n",
    "fft_3 = fft[(fft['max_rel_err'] < 1e-3) & (fft['max_rel_err'] > 1e-4)]\n",
    "fft_4 = fft[(fft['max_rel_err'] < 1e-4) & (fft['max_rel_err'] > 1e-5)]\n",
    "fft_5 = fft[(fft['max_rel_err'] < 1e-5) & (fft['max_rel_err'] > 1e-6)]\n",
    "\n",
    "blas_3 = blas[(blas['max_rel_err'] < 1e-3) & (blas['max_rel_err'] > 1e-4)]\n",
    "blas_4 = blas[(blas['max_rel_err'] < 1e-4) & (blas['max_rel_err'] > 1e-5)]\n",
    "blas_5 = blas[(blas['max_rel_err'] < 1e-5) & (blas['max_rel_err'] > 1e-6)]\n",
    "\n",
    "blas_vec = [blas_3, blas_4, blas_5]\n",
    "fft_vec = [fft_3, fft_4, fft_5]\n",
    "\n",
    "blas_best = []\n",
    "fft_best = []\n",
    "\n",
    "for (blas, fft) in zip(blas_vec, fft_vec):\n",
    "    min_index = blas['time'].idxmin()\n",
    "    blas_best.append(blas.loc[min_index])\n",
    "    min_index = fft['time'].idxmin()\n",
    "    fft_best.append(fft.loc[min_index])\n",
    "\n",
    "blas_best_times = []\n",
    "fft_best_times = []\n",
    "for (blas, fft) in zip(blas_best, fft_best):\n",
    "    blas_best_times.append(blas['time'])\n",
    "    fft_best_times.append(fft['time'])"
   ]
  },
  {
   "cell_type": "code",
   "execution_count": 80,
   "id": "9aecef47-edd5-4396-bcae-46bf6070270c",
   "metadata": {},
   "outputs": [
    {
     "data": {
      "text/plain": [
       "depth              5.000000e+00\n",
       "expansion_order    7.000000e+00\n",
       "time               8.755960e-01\n",
       "min_rel_err        1.548052e-07\n",
       "mean_rel_err       2.812592e-06\n",
       "max_rel_err        8.196756e-06\n",
       "Name: 10, dtype: float64"
      ]
     },
     "execution_count": 80,
     "metadata": {},
     "output_type": "execute_result"
    }
   ],
   "source": [
    "fft_best[2]"
   ]
  },
  {
   "cell_type": "code",
   "execution_count": 82,
   "id": "46551544-72c0-49a4-8da1-4da474733011",
   "metadata": {},
   "outputs": [
    {
     "data": {
      "text/plain": [
       "surface_diff       2.000000e+00\n",
       "svd_threshold      1.000000e-04\n",
       "depth              5.000000e+00\n",
       "expansion_order    5.000000e+00\n",
       "time               5.185421e-01\n",
       "min_rel_err        7.757251e-08\n",
       "mean_rel_err       3.068905e-06\n",
       "max_rel_err        8.970035e-06\n",
       "Name: 182, dtype: float64"
      ]
     },
     "execution_count": 82,
     "metadata": {},
     "output_type": "execute_result"
    }
   ],
   "source": [
    "blas_best[2]"
   ]
  },
  {
   "cell_type": "code",
   "execution_count": 6,
   "id": "29b2966c-a21f-466b-b109-99c36197c158",
   "metadata": {},
   "outputs": [
    {
     "data": {
      "image/png": "[encoded data removed]",
      "text/plain": [
       "<Figure size 640x480 with 1 Axes>"
      ]
     },
     "metadata": {},
     "output_type": "display_data"
    }
   ],
   "source": [
    "# Bar width\n",
    "width = 0.35\n",
    "\n",
    "fig, ax = plt.subplots()\n",
    "\n",
    "x = np.arange(len(blas_best_times))\n",
    "ax.set_title(\"M1 Pro\")\n",
    "ax.bar(x - width/2, blas_best_times, width, label='BLAS')\n",
    "ax.bar(x + width/2, fft_best_times, width, label='FFT')\n",
    "ax.set_ylabel('FMM Runtime (s)')\n",
    "ax.set_xlabel('Digits of Precision')\n",
    "ax.set_xticks([0, 1, 2])\n",
    "ax.set_xticklabels([3, 4, 5])\n",
    "ax.legend()\n",
    "\n",
    "plt.show()"
   ]
  },
  {
   "cell_type": "markdown",
   "id": "30484ae3-7049-4052-8b06-8f06351bc063",
   "metadata": {},
   "source": [
    "# Double Precision"
   ]
  },
  {
   "cell_type": "markdown",
   "id": "7126cf3e-cf2a-450d-a3c3-29407634cfef",
   "metadata": {},
   "source": [
    "## BLAS Field Translations"
   ]
  },
  {
   "cell_type": "code",
   "execution_count": 18,
   "id": "23852842-df3d-46b2-bbb9-528c29fd6b78",
   "metadata": {},
   "outputs": [],
   "source": [
    "np.random.seed(0)\n",
    "surface_diff_vec = [0, 1, 2]\n",
    "svd_threshold_vec = [None, 1e-15, 1e-12, 1e-9, 1e-6, 1e-3, 1e-1]\n",
    "depth_vec = [4, 5]\n",
    "expansion_order_vec = [5, 6, 7, 8, 9, 10]\n",
    "\n",
    "parameters = list(itertools.product(surface_diff_vec, svd_threshold_vec, depth_vec, expansion_order_vec))\n",
    "\n",
    "dim = 3\n",
    "dtype = np.float64\n",
    "ctype = np.complex128\n",
    "\n",
    "# Set FMM Parameters\n",
    "n_vec = 1\n",
    "n_crit = None\n",
    "depth = 3\n",
    "n_sources = 1000000\n",
    "n_targets = 1000000\n",
    "kernel = \"laplace\" \n",
    "field_translation = \"blas\"  \n",
    "kernel_eval_type = (\n",
    "    \"eval\"  \n",
    ")\n",
    "\n",
    "sources = np.reshape(\n",
    "    np.random.rand(n_sources * dim), (n_sources, dim)\n",
    ").astype(dtype)\n",
    "targets = np.reshape(\n",
    "    np.random.rand(n_targets * dim), (n_targets, dim)\n",
    ").astype(dtype)\n",
    "charges = np.reshape(\n",
    "    np.random.rand(n_sources * n_vec), (n_sources, n_vec)\n",
    ").astype(dtype)\n",
    "\n",
    "rel_error = []\n",
    "times = []\n",
    "setup = []\n",
    "\n",
    "for (i, (surface_diff, svd_threshold, depth, expansion_order)) in enumerate(parameters):\n",
    "    tmp = [expansion_order]*(depth+1)\n",
    "\n",
    "    s = time()\n",
    "    fmm = KiFmm(\n",
    "        tmp,\n",
    "        sources,\n",
    "        targets,\n",
    "        charges,\n",
    "        kernel_eval_type,\n",
    "        kernel,\n",
    "        field_translation,\n",
    "        prune_empty=True,\n",
    "        timed=True,\n",
    "        svd_threshold=svd_threshold,\n",
    "        surface_diff=surface_diff,\n",
    "        depth=depth\n",
    "    )\n",
    "    setup.append(time()-s)\n",
    "\n",
    "    s = time()\n",
    "    fmm.evaluate()\n",
    "    times.append(time()-s)\n",
    "    print(f\"Computing: {i+1}/{len(parameters)} Eval Time: {times[i]}\")\n",
    "        \n",
    "    leaf = fmm.target_leaves[1]\n",
    "    found = fmm.potentials(leaf)[0]\n",
    "    targets_leaf = fmm.target_coordinates(leaf)\n",
    "    expected = fmm.evaluate_kernel(sources, targets_leaf, charges)\n",
    "\n",
    "    relative_error = np.abs(expected-found)/expected\n",
    "\n",
    "    max_relative_error = np.max(relative_error)\n",
    "    min_relative_error = np.min(relative_error)\n",
    "    mean_relative_error = np.mean(relative_error)\n",
    "\n",
    "    rel_error.append((min_relative_error, mean_relative_error, max_relative_error))\n",
    "\n",
    "\n",
    "with open('accuracy_double_precision_blas.csv', mode='w', newline='') as f:\n",
    "    writer = csv.writer(f)\n",
    "    writer.writerow(['surface_diff', 'svd_threshold', 'depth', 'expansion_order', 'time', 'min_rel_err', 'mean_rel_err', 'max_rel_err'])\n",
    "    for row in zip(parameters, times, rel_error):\n",
    "        writer.writerow([row[0][0], row[0][1], row[0][2], row[0][3], row[1], row[2][0], row[2][1], row[2][2]])"
   ]
  },
  {
   "cell_type": "markdown",
   "id": "a171aa1a-ff29-490d-b364-eed5a02af438",
   "metadata": {},
   "source": [
    "## FFT Field Translations"
   ]
  },
  {
   "cell_type": "code",
   "execution_count": 19,
   "id": "5599f200-56e6-43ca-861b-85c2f0ebb339",
   "metadata": {},
   "outputs": [],
   "source": [
    "np.random.seed(0)\n",
    "\n",
    "depth_vec = [4, 5]\n",
    "expansion_order_vec = [5, 6, 7, 8, 9, 10]\n",
    "\n",
    "parameters = list(itertools.product(depth_vec, expansion_order_vec))\n",
    "\n",
    "np.random.seed(0)\n",
    "\n",
    "dim = 3\n",
    "dtype = np.float64\n",
    "ctype = np.complex128\n",
    "\n",
    "# Set FMM Parameters\n",
    "n_vec = 1\n",
    "n_crit = None\n",
    "n_sources = 1000000\n",
    "n_targets = 1000000\n",
    "kernel = \"laplace\" \n",
    "field_translation = \"fft\"  \n",
    "kernel_eval_type = (\n",
    "    \"eval\"  \n",
    ")\n",
    "\n",
    "sources = np.reshape(\n",
    "    np.random.rand(n_sources * dim), (n_sources, dim)\n",
    ").astype(dtype)\n",
    "targets = np.reshape(\n",
    "    np.random.rand(n_targets * dim), (n_targets, dim)\n",
    ").astype(dtype)\n",
    "charges = np.reshape(\n",
    "    np.random.rand(n_sources * n_vec), (n_sources, n_vec)\n",
    ").astype(dtype)\n",
    "\n",
    "rel_error = []\n",
    "times = []\n",
    "setup = []\n",
    "\n",
    "\n",
    "for (i, (depth, expansion_order)) in enumerate(parameters):\n",
    "    tmp = [expansion_order]*(depth+1)\n",
    "    s = time()\n",
    "    fmm = KiFmm(\n",
    "        tmp,\n",
    "        sources,\n",
    "        targets,\n",
    "        charges,\n",
    "        kernel_eval_type,\n",
    "        kernel,\n",
    "        field_translation,\n",
    "        prune_empty=True,\n",
    "        timed=True,\n",
    "        depth=depth\n",
    "    )\n",
    "    setup.append(time()-s)\n",
    "\n",
    "    s = time()\n",
    "    fmm.evaluate()\n",
    "    times.append(time()-s)\n",
    "    print(f\"Computing: {i+1}/{len(parameters)} Eval Time: {times[i]}\")\n",
    "        \n",
    "    leaf = fmm.target_leaves[1]\n",
    "    found = fmm.potentials(leaf)[0]\n",
    "    targets_leaf = fmm.target_coordinates(leaf)\n",
    "    expected = fmm.evaluate_kernel(sources, targets_leaf, charges)\n",
    "\n",
    "    relative_error = np.abs(expected-found)/expected\n",
    "\n",
    "    max_relative_error = np.max(relative_error)\n",
    "    min_relative_error = np.min(relative_error)\n",
    "    mean_relative_error = np.mean(relative_error)\n",
    "\n",
    "    rel_error.append((min_relative_error, mean_relative_error, max_relative_error))\n",
    "\n",
    "with open('accuracy_double_precision_fft.csv', mode='w', newline='') as f:\n",
    "    writer = csv.writer(f)\n",
    "    writer.writerow(['depth', 'expansion_order', 'time', 'min_rel_err', 'mean_rel_err', 'max_rel_err'])\n",
    "    for row in zip(parameters, times, rel_error):\n",
    "        writer.writerow([row[0][0], row[0][1], row[1], row[2][0], row[2][1], row[2][2]])"
   ]
  },
  {
   "cell_type": "code",
   "execution_count": 83,
   "id": "50bbd50b-4f8f-4a4c-9603-b2e45189ea40",
   "metadata": {},
   "outputs": [],
   "source": [
    "blas = pd.read_csv('accuracy_double_precision_blas.csv')\n",
    "fft = pd.read_csv('accuracy_double_precision_fft.csv')\n",
    "\n",
    "# Filter for max rel error with given number of digits in final solution\n",
    "fft_6 = fft[(fft['max_rel_err'] < 1e-6) & (fft['max_rel_err'] > 1e-7)]\n",
    "fft_7 = fft[(fft['max_rel_err'] < 1e-7) & (fft['max_rel_err'] > 1e-8)]\n",
    "fft_8 = fft[(fft['max_rel_err'] < 1e-8) & (fft['max_rel_err'] > 1e-9)]\n",
    "fft_9 = fft[(fft['max_rel_err'] < 1e-9) & (fft['max_rel_err'] > 1e-10)]\n",
    "fft_10 = fft[(fft['max_rel_err'] < 1e-10) & (fft['max_rel_err'] > 1e-11)]\n",
    "\n",
    "\n",
    "blas_6 = blas[(blas['max_rel_err'] < 1e-6) & (blas['max_rel_err'] > 1e-7)]\n",
    "blas_7 = blas[(blas['max_rel_err'] < 1e-7) & (blas['max_rel_err'] > 1e-8)]\n",
    "blas_8 = blas[(blas['max_rel_err'] < 1e-8) & (blas['max_rel_err'] > 1e-9)]\n",
    "blas_9 = blas[(blas['max_rel_err'] < 1e-9) & (blas['max_rel_err'] > 1e-10)]\n",
    "blas_10 = blas[(blas['max_rel_err'] < 1e-10) & (blas['max_rel_err'] > 1e-11)]\n",
    "\n",
    "\n",
    "blas_vec = [blas_6, blas_7, blas_8, blas_9, blas_10]\n",
    "fft_vec = [fft_6, fft_7, fft_8, fft_9, fft_10]\n",
    "\n",
    "blas_best = []\n",
    "fft_best = []\n",
    "\n",
    "for (blas, fft) in zip(blas_vec, fft_vec):\n",
    "    min_index = blas['time'].idxmin()\n",
    "    blas_best.append(blas.loc[min_index])\n",
    "    min_index = fft['time'].idxmin()\n",
    "    fft_best.append(fft.loc[min_index])\n",
    "\n",
    "blas_best_times = []\n",
    "fft_best_times = []\n",
    "for (blas, fft) in zip(blas_best, fft_best):\n",
    "    blas_best_times.append(blas['time'])\n",
    "    fft_best_times.append(fft['time'])"
   ]
  },
  {
   "cell_type": "code",
   "execution_count": 93,
   "id": "084bd7fd-ce92-40dc-a67d-9c5cb8b97941",
   "metadata": {},
   "outputs": [
    {
     "data": {
      "text/plain": [
       "depth              5.000000e+00\n",
       "expansion_order    1.000000e+01\n",
       "time               9.395312e+00\n",
       "min_rel_err        7.342667e-12\n",
       "mean_rel_err       1.772595e-11\n",
       "max_rel_err        5.670355e-11\n",
       "Name: 11, dtype: float64"
      ]
     },
     "execution_count": 93,
     "metadata": {},
     "output_type": "execute_result"
    }
   ],
   "source": [
    "fft_best[4]"
   ]
  },
  {
   "cell_type": "code",
   "execution_count": 95,
   "id": "30aee2f0-bc46-408c-8366-93769a1fa96d",
   "metadata": {},
   "outputs": [
    {
     "data": {
      "text/plain": [
       "surface_diff       2.000000e+00\n",
       "svd_threshold      1.000000e-09\n",
       "depth              4.000000e+00\n",
       "expansion_order    9.000000e+00\n",
       "time               1.880748e+00\n",
       "min_rel_err        1.594595e-13\n",
       "mean_rel_err       1.002857e-11\n",
       "max_rel_err        7.060898e-11\n",
       "Name: 208, dtype: float64"
      ]
     },
     "execution_count": 95,
     "metadata": {},
     "output_type": "execute_result"
    }
   ],
   "source": [
    "blas_best[4]"
   ]
  },
  {
   "cell_type": "code",
   "execution_count": 8,
   "id": "99a921d1-a890-4ee1-b087-f01c97536b70",
   "metadata": {},
   "outputs": [
    {
     "data": {
      "image/png": "[encoded data removed]",
      "text/plain": [
       "<Figure size 640x480 with 1 Axes>"
      ]
     },
     "metadata": {},
     "output_type": "display_data"
    }
   ],
   "source": [
    "# Bar width\n",
    "width = 0.35\n",
    "\n",
    "fig, ax = plt.subplots()\n",
    "\n",
    "x = np.arange(len(blas_best_times))\n",
    "\n",
    "ax.set_title('M1 Pro')\n",
    "ax.bar(x - width/2, blas_best_times, width, label='BLAS')\n",
    "ax.bar(x + width/2, fft_best_times, width, label='FFT')\n",
    "ax.set_ylabel('FMM Runtime (s)')\n",
    "ax.set_xlabel('Digits of Precision')\n",
    "ax.set_xticks([0, 1, 2, 3, 4])\n",
    "ax.set_xticklabels([6, 7, 8, 9, 10])\n",
    "ax.legend()\n",
    "\n",
    "plt.show()"
   ]
  },
  {
   "cell_type": "code",
   "execution_count": null,
   "id": "2e4ddf15-4673-469e-b517-374a3d79a2eb",
   "metadata": {},
   "outputs": [],
   "source": []
  }
 ],
 "metadata": {
  "kernelspec": {
   "display_name": "Python 3 (ipykernel)",
   "language": "python",
   "name": "python3"
  },
  "language_info": {
   "codemirror_mode": {
    "name": "ipython",
    "version": 3
   },
   "file_extension": ".py",
   "mimetype": "text/x-python",
   "name": "python",
   "nbconvert_exporter": "python",
   "pygments_lexer": "ipython3",
   "version": "3.10.14"
  }
 },
 "nbformat": 4,
 "nbformat_minor": 5
}
