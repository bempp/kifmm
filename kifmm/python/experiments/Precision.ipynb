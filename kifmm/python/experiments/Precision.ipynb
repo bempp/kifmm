{
 "cells": [
  {
   "cell_type": "code",
   "execution_count": 1,
   "id": "61648239-bda5-4370-ba7c-b0189ccce630",
   "metadata": {},
   "outputs": [],
   "source": [
    "import numpy as np\n",
    "from kifmm_py import KiFmm"
   ]
  },
  {
   "cell_type": "markdown",
   "id": "aedbe5b3-02f2-4c1e-bb6a-db57c6669712",
   "metadata": {},
   "source": [
    "# Single Precision"
   ]
  },
  {
   "cell_type": "code",
   "execution_count": 2,
   "id": "63fcbfe5-deed-45d3-9a45-42b89182c2b2",
   "metadata": {},
   "outputs": [],
   "source": [
    "np.random.seed(0)\n",
    "\n",
    "dim = 3\n",
    "dtype = np.float32\n",
    "ctype = np.complex64\n",
    "\n",
    "# Set FMM Parameters\n",
    "expansion_order = 6 # Single expansion order\n",
    "n_vec = 1\n",
    "n_crit = 150\n",
    "n_sources = 1000000\n",
    "n_targets = 1000000\n",
    "kernel = \"laplace\"  # Or 'helmholtz'\n",
    "field_translation = \"blas\"  # Or 'fft'\n",
    "kernel_eval_type = (\n",
    "    \"eval\"  # For potentials, or 'eval_deriv' for potentials and gradients\n",
    ")\n",
    "\n",
    "# Setup source/target/charge data in Fortran order\n",
    "sources = np.reshape(\n",
    "    np.random.rand(n_sources * dim), (n_sources, dim)\n",
    ").astype(dtype)\n",
    "targets = np.reshape(\n",
    "    np.random.rand(n_targets * dim), (n_targets, dim)\n",
    ").astype(dtype)\n",
    "charges = np.reshape(\n",
    "    np.random.rand(n_sources * n_vec), (n_sources, n_vec)\n",
    ").astype(dtype)\n",
    "\n",
    "fmm = KiFmm(\n",
    "    expansion_order,\n",
    "    sources,\n",
    "    targets,\n",
    "    charges,\n",
    "    kernel_eval_type,\n",
    "    kernel,\n",
    "    field_translation,\n",
    "    prune_empty=True, # Optional, remove empty leaves and their ancestors\n",
    "    timed=True, # Optional, can examine individual operator times\n",
    "    svd_threshold=1e-7,  # Optional, required for 'blas' based field translations\n",
    "    n_crit=n_crit, # Optional, but must specify either n_crit or depth\n",
    "    surface_diff=1 # Optional (for BLAS field translation), creates check surfaces \n",
    "                   # with an expansion order 'surface_diff' higher than the corresponding equivalent surface\n",
    ")\n",
    "\n",
    "# Run the FMM\n",
    "fmm.evaluate()\n",
    "\n",
    "# Examine result at leaf index\n",
    "leaf = fmm.target_leaves[1]\n",
    "found = fmm.potentials(leaf)[0]\n",
    "targets_leaf = fmm.target_coordinates(leaf)\n",
    "expected = fmm.evaluate_kernel(sources, targets_leaf, charges)\n",
    "\n",
    "# Test\n",
    "# np.testing.assert_allclose(found, expected, rtol=1e-5)"
   ]
  },
  {
   "cell_type": "code",
   "execution_count": null,
   "id": "b483207e-2c98-4749-a6db-5ea29d6c13d9",
   "metadata": {},
   "outputs": [],
   "source": []
  }
 ],
 "metadata": {
  "kernelspec": {
   "display_name": "Python 3 (ipykernel)",
   "language": "python",
   "name": "python3"
  },
  "language_info": {
   "codemirror_mode": {
    "name": "ipython",
    "version": 3
   },
   "file_extension": ".py",
   "mimetype": "text/x-python",
   "name": "python",
   "nbconvert_exporter": "python",
   "pygments_lexer": "ipython3",
   "version": "3.10.14"
  }
 },
 "nbformat": 4,
 "nbformat_minor": 5
}
