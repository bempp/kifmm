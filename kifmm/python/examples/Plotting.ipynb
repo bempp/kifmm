{
 "cells": [
  {
   "cell_type": "code",
   "execution_count": null,
   "id": "406662de-6239-4cea-8800-3f9c50fd45d6",
   "metadata": {},
   "outputs": [],
   "source": [
    "%gui qt\n",
    "from stl import mesh\n",
    "from mayavi import mlab\n",
    "import numpy as np\n",
    "import matplotlib.pyplot as plt\n",
    "\n",
    "from kifmm_py import KiFmm"
   ]
  },
  {
   "cell_type": "code",
   "execution_count": null,
   "id": "d060ff72-df49-4de5-88f6-59564f3c6e4b",
   "metadata": {},
   "outputs": [],
   "source": [
    "def read_stl_triangle_mesh_vertices(filepath, dtype=np.float32):\n",
    "    \"\"\"Read STL into Fortran ordered NumPy array\"\"\"\n",
    "    m = mesh.Mesh.from_file(filepath).vectors\n",
    "\n",
    "    faces = m.reshape(-1, 3)\n",
    "    faces = np.arange(faces.shape[0]).reshape(-1, 3)  # Assuming each face is a triangle\n",
    "\n",
    "    x = m[:, :, 0].flatten()\n",
    "    y = m[:, :, 1].flatten()\n",
    "    z = m[:, :, 2].flatten()\n",
    "\n",
    "    # Return as a single Fortran order array\n",
    "    n = len(x)\n",
    "    result = np.zeros(3 * n).astype(dtype)\n",
    "    result[:n] = x\n",
    "    result[n : 2 * n] = y\n",
    "    result[2 * n :] = z\n",
    "    return (np.reshape(result, [n, 3], order=\"F\").astype(dtype), faces)"
   ]
  },
  {
   "cell_type": "markdown",
   "id": "bd934b5a-3520-43d5-a9c4-ad06e9682532",
   "metadata": {},
   "source": [
    "# Plot Figure"
   ]
  },
  {
   "cell_type": "code",
   "execution_count": null,
   "id": "dc49d897-3c89-4d8d-97a2-859a85da73e8",
   "metadata": {},
   "outputs": [],
   "source": [
    "(sources, faces) = read_stl_triangle_mesh_vertices(\"example.stl\")\n",
    "\n",
    "x = sources[:, 0]\n",
    "y = sources[:, 1]\n",
    "z = sources[:, 2]"
   ]
  },
  {
   "cell_type": "code",
   "execution_count": null,
   "id": "47b6ab22-f1e4-4f0f-87f3-13a1b5bd4f14",
   "metadata": {},
   "outputs": [],
   "source": [
    "mlab.view(azimuth=40, elevation=70, distance=\"auto\", focalpoint=\"auto\")\n",
    "fig = mlab.figure(\n",
    "    size=(960, 1080), bgcolor=(1, 1, 1)\n",
    ")  # This sets the window size for rendering\n",
    "plot = mlab.triangular_mesh(\n",
    "    x, y, z, faces, color=(0.5, 0.5, 0.5), representation=\"surface\", figure=fig\n",
    ")\n",
    "mlab.show()"
   ]
  },
  {
   "cell_type": "markdown",
   "id": "8f2e8c7c-0e32-4140-9d77-c730973cba6f",
   "metadata": {},
   "source": [
    "# Run FMM"
   ]
  },
  {
   "cell_type": "code",
   "execution_count": null,
   "id": "ec377e67-40e7-4b75-b023-c8010b956cd6",
   "metadata": {},
   "outputs": [],
   "source": [
    "dim = 3\n",
    "dtype = np.float32\n",
    "\n",
    "# Set FMM Parameters\n",
    "expansion_order = 6\n",
    "n_vec = 1\n",
    "n_crit = 150\n",
    "n_sources = sources.shape[0]\n",
    "n_targets = sources.shape[0]\n",
    "kernel = \"laplace\"  # Or 'helmholtz'\n",
    "field_translation = \"blas\"  # Or 'fft'\n",
    "kernel_eval_type = \"eval\"  # For potential graidents, or 'eval' for potentials only\n",
    "\n",
    "# Set Random charges\n",
    "charges = np.reshape(\n",
    "    np.random.rand(n_sources * n_vec), (n_sources, n_vec), order=\"F\"\n",
    ").astype(dtype)\n",
    "\n",
    "fmm = KiFmm(\n",
    "    expansion_order,\n",
    "    sources,\n",
    "    sources,\n",
    "    charges,\n",
    "    n_crit,\n",
    "    kernel_eval_type,\n",
    "    kernel,\n",
    "    field_translation,\n",
    "    svd_threshold=1e-7,  # Optional, required for 'blas' based field translations\n",
    ")\n",
    "\n",
    "fmm.evaluate()"
   ]
  },
  {
   "cell_type": "markdown",
   "id": "26e3963c-fcc3-4360-9406-c34b3ed377c3",
   "metadata": {},
   "source": [
    "### Data has been re-ordered by global sort during tree construction"
   ]
  },
  {
   "cell_type": "code",
   "execution_count": null,
   "id": "9b3da7ca-d82f-4093-9e33-2a7cc3c933f5",
   "metadata": {},
   "outputs": [],
   "source": [
    "potentials = fmm.all_potentials()\n",
    "\n",
    "reordered = np.zeros_like(potentials)\n",
    "for i, j in enumerate(fmm.target_global_indices):\n",
    "    reordered[j] = potentials[i]"
   ]
  },
  {
   "cell_type": "markdown",
   "id": "90aaa615-d23f-4210-9707-39792c2295d5",
   "metadata": {},
   "source": [
    "### Plot Solution"
   ]
  },
  {
   "cell_type": "code",
   "execution_count": null,
   "id": "42bb98f8-8e4e-4292-bcdc-0df4be785ace",
   "metadata": {},
   "outputs": [],
   "source": [
    "mlab.view(azimuth=40, elevation=70, distance=\"auto\", focalpoint=\"auto\")\n",
    "fig = mlab.figure(\n",
    "    size=(960, 1080), bgcolor=(1, 1, 1)\n",
    ")  # This sets the window size for rendering\n",
    "solution = mlab.triangular_mesh(\n",
    "    x, y, z, faces, scalars=np.log(reordered).flatten(), representation=\"surface\"\n",
    ")"
   ]
  },
  {
   "cell_type": "code",
   "execution_count": null,
   "id": "b1568ba6-a260-4107-902a-ee4b4887472f",
   "metadata": {},
   "outputs": [],
   "source": []
  }
 ],
 "metadata": {
  "kernelspec": {
   "display_name": "Python 3 (ipykernel)",
   "language": "python",
   "name": "python3"
  },
  "language_info": {
   "codemirror_mode": {
    "name": "ipython",
    "version": 3
   },
   "file_extension": ".py",
   "mimetype": "text/x-python",
   "name": "python",
   "nbconvert_exporter": "python",
   "pygments_lexer": "ipython3",
   "version": "3.10.14"
  }
 },
 "nbformat": 4,
 "nbformat_minor": 5
}
