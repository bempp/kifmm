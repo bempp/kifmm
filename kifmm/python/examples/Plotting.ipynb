{
 "cells": [
  {
   "cell_type": "code",
   "execution_count": 32,
   "id": "406662de-6239-4cea-8800-3f9c50fd45d6",
   "metadata": {},
   "outputs": [],
   "source": [
    "%gui qt\n",
    "from stl import mesh\n",
    "from mayavi import mlab\n",
    "import numpy as np\n",
    "import matplotlib.pyplot as plt\n",
    "\n",
    "from kifmm_py import KiFmm"
   ]
  },
  {
   "cell_type": "code",
   "execution_count": 33,
   "id": "d060ff72-df49-4de5-88f6-59564f3c6e4b",
   "metadata": {},
   "outputs": [],
   "source": [
    "def read_stl_triangle_mesh_vertices(filepath, dtype=np.float32):\n",
    "    \"\"\"Read STL into Fortran ordered NumPy array\"\"\"\n",
    "    m = mesh.Mesh.from_file(filepath).vectors\n",
    "\n",
    "    faces = m.reshape(-1, 3)\n",
    "    faces = np.arange(faces.shape[0]).reshape(-1, 3)  # Assuming each face is a triangle\n",
    "\n",
    "    x = m[:, :, 0].flatten()\n",
    "    y = m[:, :, 1].flatten()\n",
    "    z = m[:, :, 2].flatten()\n",
    "\n",
    "    # Return as a single Fortran order array\n",
    "    n = len(x)\n",
    "    result = np.zeros((n, 3)).astype(dtype)\n",
    "    result[:, 0] = x\n",
    "    result[:, 1] = y\n",
    "    result[:, 2] = z\n",
    "    return (result, faces)"
   ]
  },
  {
   "cell_type": "markdown",
   "id": "bd934b5a-3520-43d5-a9c4-ad06e9682532",
   "metadata": {},
   "source": [
    "# Plot Figure"
   ]
  },
  {
   "cell_type": "code",
   "execution_count": 34,
   "id": "dc49d897-3c89-4d8d-97a2-859a85da73e8",
   "metadata": {},
   "outputs": [],
   "source": [
    "(sources, faces) = read_stl_triangle_mesh_vertices(\"example.stl\")\n",
    "x = sources[:, 0]\n",
    "y = sources[:, 1]\n",
    "z = sources[:, 2]"
   ]
  },
  {
   "cell_type": "code",
   "execution_count": 35,
   "id": "47b6ab22-f1e4-4f0f-87f3-13a1b5bd4f14",
   "metadata": {},
   "outputs": [],
   "source": [
    "# mlab.view(azimuth=40, elevation=70, distance=\"auto\", focalpoint=\"auto\")\n",
    "# fig = mlab.figure(\n",
    "#     size=(960, 1080), bgcolor=(1, 1, 1)\n",
    "# )  # This sets the window size for rendering\n",
    "# plot = mlab.triangular_mesh(\n",
    "#     x, y, z, faces, color=(0.5, 0.5, 0.5), representation=\"surface\", figure=fig\n",
    "# )\n",
    "# mlab.show()"
   ]
  },
  {
   "cell_type": "markdown",
   "id": "8f2e8c7c-0e32-4140-9d77-c730973cba6f",
   "metadata": {},
   "source": [
    "# Run FMM"
   ]
  },
  {
   "cell_type": "code",
   "execution_count": 36,
   "id": "ec377e67-40e7-4b75-b023-c8010b956cd6",
   "metadata": {},
   "outputs": [],
   "source": [
    "dim = 3\n",
    "dtype = np.float32\n",
    "\n",
    "# Set FMM Parameters\n",
    "expansion_order = 6\n",
    "n_vec = 1\n",
    "n_crit = 150\n",
    "n_sources = sources.shape[0]\n",
    "n_targets = sources.shape[0]\n",
    "kernel = \"laplace\"  # Or 'helmholtz'\n",
    "field_translation = \"blas\"  # Or 'fft'\n",
    "kernel_eval_type = \"eval\"  # For potential graidents, or 'eval' for potentials only\n",
    "\n",
    "# Set Random charges\n",
    "charges = np.reshape(\n",
    "    np.random.rand(n_sources * n_vec), (n_sources, n_vec)\n",
    ").astype(dtype)\n",
    "\n",
    "fmm = KiFmm(\n",
    "    expansion_order,\n",
    "    sources,\n",
    "    sources,\n",
    "    charges,\n",
    "    kernel_eval_type,\n",
    "    kernel,\n",
    "    field_translation,\n",
    "    svd_threshold=1e-7,  # Optional, required for 'blas' based field translations\n",
    "    n_crit=n_crit,\n",
    ")\n",
    "\n",
    "fmm.evaluate()"
   ]
  },
  {
   "cell_type": "code",
   "execution_count": 38,
   "id": "150bfb8c-d772-4de6-843a-f7536f66deca",
   "metadata": {},
   "outputs": [],
   "source": [
    "# Examine result at leaf index\n",
    "leaf = fmm.target_leaves[0]\n",
    "found = fmm.potentials(leaf)[0]\n",
    "targets_leaf = fmm.target_coordinates(leaf)\n",
    "expected = fmm.evaluate_kernel(sources, targets_leaf, charges)\n",
    "\n",
    "# Test\n",
    "np.testing.assert_allclose(found, expected, rtol=1e-2)"
   ]
  },
  {
   "cell_type": "markdown",
   "id": "26e3963c-fcc3-4360-9406-c34b3ed377c3",
   "metadata": {},
   "source": [
    "### Data has been re-ordered by global sort during tree construction"
   ]
  },
  {
   "cell_type": "code",
   "execution_count": 39,
   "id": "9b3da7ca-d82f-4093-9e33-2a7cc3c933f5",
   "metadata": {},
   "outputs": [],
   "source": [
    "potentials = fmm.all_potentials()\n",
    "\n",
    "reordered = np.zeros_like(potentials)\n",
    "for i, j in enumerate(fmm.target_global_indices):\n",
    "    reordered[0][j] = potentials[0][i]"
   ]
  },
  {
   "cell_type": "markdown",
   "id": "90aaa615-d23f-4210-9707-39792c2295d5",
   "metadata": {},
   "source": [
    "### Plot Solution"
   ]
  },
  {
   "cell_type": "code",
   "execution_count": 40,
   "id": "42bb98f8-8e4e-4292-bcdc-0df4be785ace",
   "metadata": {},
   "outputs": [],
   "source": [
    "mlab.view(azimuth=40, elevation=70, distance=\"auto\", focalpoint=\"auto\")\n",
    "fig = mlab.figure(\n",
    "    size=(960, 1080), bgcolor=(1, 1, 1)\n",
    ")  # This sets the window size for rendering\n",
    "solution = mlab.triangular_mesh(\n",
    "    x, y, z, faces, scalars=np.log(reordered).flatten(), representation=\"surface\"\n",
    ")"
   ]
  },
  {
   "cell_type": "code",
   "execution_count": null,
   "id": "b423218f-21ca-430a-bdcc-223010d6da87",
   "metadata": {},
   "outputs": [],
   "source": []
  }
 ],
 "metadata": {
  "kernelspec": {
   "display_name": "Python 3 (ipykernel)",
   "language": "python",
   "name": "python3"
  },
  "language_info": {
   "codemirror_mode": {
    "name": "ipython",
    "version": 3
   },
   "file_extension": ".py",
   "mimetype": "text/x-python",
   "name": "python",
   "nbconvert_exporter": "python",
   "pygments_lexer": "ipython3",
   "version": "3.10.14"
  }
 },
 "nbformat": 4,
 "nbformat_minor": 5
}
