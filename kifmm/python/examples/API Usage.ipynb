{
 "cells": [
  {
   "cell_type": "markdown",
   "id": "62aefbe6-e4da-4d62-88d0-2994c3872298",
   "metadata": {},
   "source": [
    "# Python API for KiFMM-rs\n",
    "\n",
    "We provide a full, object oriented, Python API for our Rust library. Below are a number of examples of how to achieve different functionality."
   ]
  },
  {
   "cell_type": "code",
   "execution_count": 1,
   "id": "b3701203-9472-4fb0-ba09-4ee2c84c80c1",
   "metadata": {},
   "outputs": [],
   "source": [
    "import numpy as np\n",
    "\n",
    "from kifmm_py import (\n",
    "    KiFmm,\n",
    "    LaplaceKernel,\n",
    "    SingleNodeTree,\n",
    "    EvalType,\n",
    "    BlasFieldTranslation,\n",
    "    FftFieldTranslation,\n",
    ")"
   ]
  },
  {
   "cell_type": "markdown",
   "id": "2e8c7b6d-5cd7-4ef7-ba90-fb707c6c5577",
   "metadata": {},
   "source": [
    "## Basic Example\n",
    "\n",
    "Here we set some random charge and particle data, and evaluate the FMM with a given kernel and field translation mode."
   ]
  },
  {
   "cell_type": "code",
   "execution_count": 7,
   "id": "2df68582-77d0-41f0-8e2a-702264d8b216",
   "metadata": {},
   "outputs": [],
   "source": [
    "np.random.seed(0)\n",
    "\n",
    "dim = 3\n",
    "dtype = np.float32\n",
    "ctype = np.complex64\n",
    "\n",
    "# Set FMM Parameters\n",
    "expansion_order = np.array([6], np.uint64)  # Single expansion order\n",
    "n_vec = 1\n",
    "n_crit = 150\n",
    "# depth = 2\n",
    "n_sources = 1000\n",
    "n_targets = 2000\n",
    "\n",
    "# Setup source/target/charge data in Fortran order\n",
    "sources = np.random.rand(n_sources * dim).astype(dtype)\n",
    "targets = np.random.rand(n_targets * dim).astype(dtype)\n",
    "charges = np.random.rand(n_sources * n_vec).astype(dtype)\n",
    "\n",
    "kernel = LaplaceKernel(\n",
    "    dtype, EvalType.Value\n",
    ")  # Evaluation mode computes either potentials, potentials + derivatives\n",
    "field_translation = FftFieldTranslation(\n",
    "    kernel, block_size=32\n",
    ")  # Block size determines cache usage, leave as None for default\n",
    "tree = SingleNodeTree(sources, targets, charges, n_crit=n_crit, prune_empty=True)\n",
    "\n",
    "# Create FMM runtime object\n",
    "fmm = KiFmm(expansion_order, tree, field_translation, timed=False)"
   ]
  },
  {
   "cell_type": "code",
   "execution_count": 8,
   "id": "316f990f-dac0-464f-8d8a-10ea76f2064a",
   "metadata": {},
   "outputs": [
    {
     "data": {
      "text/plain": [
       "<cdata 'struct FmmEvaluator *' 0x1029045c0>"
      ]
     },
     "execution_count": 8,
     "metadata": {},
     "output_type": "execute_result"
    }
   ],
   "source": [
    "fmm.fmm"
   ]
  },
  {
   "cell_type": "code",
   "execution_count": 13,
   "id": "7b0bc30f-84bf-4f27-b86c-04e7947ef469",
   "metadata": {},
   "outputs": [],
   "source": [
    "# Run the FMM\n",
    "fmm.evaluate()\n",
    "\n",
    "# Clear the charges, re-attach new charges\n",
    "new_charges = np.reshape(np.random.rand(n_sources * n_vec), (n_sources, n_vec)).astype(\n",
    "    dtype\n",
    ")\n",
    "fmm.clear(new_charges)\n",
    "\n",
    "# Can now re-run the FMM\n",
    "fmm.evaluate()"
   ]
  },
  {
   "cell_type": "markdown",
   "id": "d254b8ac-4d22-4639-928d-52bc3dd40e5f",
   "metadata": {},
   "source": [
    "## Querying Tree"
   ]
  },
  {
   "cell_type": "code",
   "execution_count": null,
   "id": "4123264c-2933-4255-82d7-51a31395e74d",
   "metadata": {},
   "outputs": [],
   "source": []
  },
  {
   "cell_type": "markdown",
   "id": "8131a4a4-1f72-414c-9122-67684a5c500f",
   "metadata": {},
   "source": [
    "## Evaluating Directly"
   ]
  },
  {
   "cell_type": "code",
   "execution_count": null,
   "id": "107783eb-2765-45be-b7ed-288d8408f1ca",
   "metadata": {},
   "outputs": [],
   "source": []
  },
  {
   "cell_type": "markdown",
   "id": "21fdc077-3656-48e6-8465-cc99a06b92a3",
   "metadata": {},
   "source": [
    "## 3D Plot with MayaVi"
   ]
  },
  {
   "cell_type": "code",
   "execution_count": null,
   "id": "df5236c6-ccb7-495b-958e-b5b7569f1372",
   "metadata": {},
   "outputs": [],
   "source": []
  }
 ],
 "metadata": {
  "kernelspec": {
   "display_name": "Python 3 (ipykernel)",
   "language": "python",
   "name": "python3"
  },
  "language_info": {
   "codemirror_mode": {
    "name": "ipython",
    "version": 3
   },
   "file_extension": ".py",
   "mimetype": "text/x-python",
   "name": "python",
   "nbconvert_exporter": "python",
   "pygments_lexer": "ipython3",
   "version": "3.10.14"
  }
 },
 "nbformat": 4,
 "nbformat_minor": 5
}
