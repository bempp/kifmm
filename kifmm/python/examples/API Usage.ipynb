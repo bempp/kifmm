{
 "cells": [
  {
   "cell_type": "markdown",
   "id": "62aefbe6-e4da-4d62-88d0-2994c3872298",
   "metadata": {},
   "source": [
    "# Python API for KiFMM-rs\n",
    "\n",
    "We provide a full, object oriented, Python API for our Rust library. Below are a number of examples of how to achieve different functionality."
   ]
  },
  {
   "cell_type": "code",
   "execution_count": 1,
   "id": "b3701203-9472-4fb0-ba09-4ee2c84c80c1",
   "metadata": {},
   "outputs": [
    {
     "name": "stdout",
     "output_type": "stream",
     "text": [
      "********************************************************************************\n",
      "WARNING: Imported VTK version (9.3) does not match the one used\n",
      "         to build the TVTK classes (9.2). This may cause problems.\n",
      "         Please rebuild TVTK.\n",
      "********************************************************************************\n",
      "\n"
     ]
    }
   ],
   "source": [
    "%gui qt\n",
    "import numpy as np\n",
    "from mayavi import mlab\n",
    "import matplotlib.pyplot as plt\n",
    "\n",
    "from kifmm_py import (\n",
    "    KiFmm,\n",
    "    LaplaceKernel,\n",
    "    SingleNodeTree,\n",
    "    EvalType,\n",
    "    BlasFieldTranslation,\n",
    "    FftFieldTranslation,\n",
    ")"
   ]
  },
  {
   "cell_type": "markdown",
   "id": "2e8c7b6d-5cd7-4ef7-ba90-fb707c6c5577",
   "metadata": {},
   "source": [
    "## Setup\n",
    "\n",
    "Setting up an FMM requires some coordinate data associated with source and target particles, which we expect as a flat Fortran ordered buffer of shape (n_coordinates, 3), where each column corresponds to the component of each axis.\n",
    "\n",
    "Additionally the user needs to choose some basic parameters, principally\n",
    "\n",
    "## Kernel\n",
    "\n",
    "We support both `LaplaceKernel` and `HelmholtzKernel`, which has been tested to low-frequencies.\n",
    "\n",
    "## Field Translation\n",
    "\n",
    "Users must specify the acceleration schemes for the multipole to local (M2L) field translation step of the FMM.\n",
    "\n",
    "We currently offer `FftFieldTranslation`, and `BlasFieldTranslation`, where the matrices associated with `BlasFieldTranslation` can optionally be compressed with a randomised SVD, or a deterministic SVD.\n",
    "\n",
    "## Tree\n",
    "\n",
    "Only `SingleNodeTree`s are provided at present, users can optionally discretise with a specified critical value of particles per leaf box `n_crit`, or by explicitly setting the tree's `depth`. In the latter case `expansion_order` must be set for each level of the tree, allowing for the option to set variable expansion order by level. This can be efficacious for the `HelmholtzKernel`.\n"
   ]
  },
  {
   "cell_type": "markdown",
   "id": "96cdf276-1357-4b73-bd5e-ab575b9e5796",
   "metadata": {},
   "source": [
    "## Basic Example (Laplace FMM + FFT M2L)"
   ]
  },
  {
   "cell_type": "code",
   "execution_count": 2,
   "id": "2df68582-77d0-41f0-8e2a-702264d8b216",
   "metadata": {},
   "outputs": [
    {
     "data": {
      "text/plain": [
       "array([[67.89123, 67.05206, 67.09231, ..., 62.72009, 79.68142, 65.05178]],\n",
       "      dtype=float32)"
      ]
     },
     "execution_count": 2,
     "metadata": {},
     "output_type": "execute_result"
    }
   ],
   "source": [
    "np.random.seed(0)\n",
    "\n",
    "dim = 3\n",
    "dtype = np.float32\n",
    "ctype = np.complex64\n",
    "\n",
    "# Set FMM Parameters\n",
    "expansion_order = np.array([6], np.uint64)  # Single expansion order as using n_crit\n",
    "n_vec = 1\n",
    "n_crit = 150\n",
    "n_sources = 1000\n",
    "n_targets = 2000\n",
    "\n",
    "# Setup source/target/charge data in Fortran order\n",
    "sources = np.random.rand(n_sources * dim).astype(dtype)\n",
    "targets = np.random.rand(n_targets * dim).astype(dtype)\n",
    "charges = np.random.rand(n_sources * n_vec).astype(dtype)\n",
    " \n",
    "# EvalType computes either potentials (EvalType.Value) or potentials + derivatives (EvalType.ValueDeriv)\n",
    "kernel = LaplaceKernel(\n",
    "    dtype, EvalType.Value\n",
    ") \n",
    "\n",
    "field_translation = FftFieldTranslation(\n",
    "    kernel, block_size=32\n",
    ")  \n",
    "tree = SingleNodeTree(sources, targets, charges, n_crit=n_crit, prune_empty=True)\n",
    "\n",
    "# Create FMM runtime object\n",
    "fmm = KiFmm(expansion_order, tree, field_translation, timed=True)\n",
    "\n",
    "# Evaluate potentials\n",
    "fmm.evaluate()\n",
    "\n",
    "# Examine potentials\n",
    "fmm.all_potentials"
   ]
  },
  {
   "cell_type": "markdown",
   "id": "9d3ea7b0-5c68-4539-8260-59d14f87668d",
   "metadata": {},
   "source": [
    "## Compare with Direct Evaluation\n",
    "\n",
    "Note, as a part of the FMM input coordinate data is sorted into a `Morton' defined order, as a part of tree construction. Therefore to compare with direct evaluation, the evaluated potentials must be unpermuted as a post processing step"
   ]
  },
  {
   "cell_type": "code",
   "execution_count": 3,
   "id": "1da87e6a-8c63-42e7-8ea9-bf60ca593218",
   "metadata": {},
   "outputs": [],
   "source": [
    "# Unsort into input order\n",
    "fmm.unsort_all_potentials()\n",
    "\n",
    "# Examine unsorted potentials\n",
    "fmm.all_potentials_r\n",
    "\n",
    "# Direct evaluation\n",
    "direct = np.zeros(n_targets).astype(dtype)\n",
    "fmm.evaluate_kernel(EvalType.Value, sources, targets, charges, direct)\n",
    "\n",
    "\n",
    "assert np.allclose(fmm.all_potentials_r, direct)"
   ]
  },
  {
   "cell_type": "markdown",
   "id": "21fdc077-3656-48e6-8465-cc99a06b92a3",
   "metadata": {},
   "source": [
    "## 3D Plot with MayaVi"
   ]
  },
  {
   "cell_type": "code",
   "execution_count": 5,
   "id": "df5236c6-ccb7-495b-958e-b5b7569f1372",
   "metadata": {},
   "outputs": [],
   "source": [
    "from kifmm_py import read_stl_triangle_mesh_vertices"
   ]
  },
  {
   "cell_type": "code",
   "execution_count": 6,
   "id": "89147a31-182c-4bd0-920e-000fb5ff5f9f",
   "metadata": {},
   "outputs": [],
   "source": [
    "(sources, faces) = read_stl_triangle_mesh_vertices(\"example.stl\")\n",
    "x = sources[:, 0]\n",
    "y = sources[:, 1]\n",
    "z = sources[:, 2]\n",
    "sources = sources.flatten()"
   ]
  },
  {
   "cell_type": "markdown",
   "id": "7cf4a1df-0cbc-4a12-9952-559fb0910b1b",
   "metadata": {},
   "source": [
    "#### Plot Data"
   ]
  },
  {
   "cell_type": "code",
   "execution_count": 7,
   "id": "333eaf61-cb42-45d2-ae37-382cf866e9d6",
   "metadata": {},
   "outputs": [],
   "source": [
    "mlab.view(azimuth=40, elevation=70, distance=\"auto\", focalpoint=\"auto\")\n",
    "fig = mlab.figure(\n",
    "    size=(960, 1080), bgcolor=(1, 1, 1)\n",
    ")  # This sets the window size for rendering\n",
    "plot = mlab.triangular_mesh(\n",
    "    x, y, z, faces, color=(0.5, 0.5, 0.5), representation=\"surface\", figure=fig\n",
    ")\n",
    "mlab.show()"
   ]
  },
  {
   "cell_type": "markdown",
   "id": "5567623c-fd44-47ee-a8c0-13139a7f7df1",
   "metadata": {},
   "source": [
    "#### Setup FMM and Evaluate"
   ]
  },
  {
   "cell_type": "code",
   "execution_count": 8,
   "id": "363d8d4b-f967-44dd-b93e-c97192295ff4",
   "metadata": {},
   "outputs": [],
   "source": [
    "dim = 3\n",
    "dtype = np.float32\n",
    "\n",
    "# Set FMM Parameters\n",
    "expansion_order = np.array([6])\n",
    "n_vec = 1\n",
    "n_crit = 150\n",
    "n_sources = len(sources) // dim\n",
    "\n",
    "# Set Random charges\n",
    "charges = np.random.rand(n_sources).astype(dtype)\n",
    "\n",
    "kernel = LaplaceKernel(\n",
    "    dtype, EvalType.Value\n",
    ") \n",
    "\n",
    "field_translation = FftFieldTranslation(\n",
    "    kernel, block_size=32\n",
    ")  \n",
    "tree = SingleNodeTree(sources, sources, charges, n_crit=n_crit, prune_empty=True)\n",
    "\n",
    "# Create FMM runtime object\n",
    "fmm = KiFmm(expansion_order, tree, field_translation, timed=True)\n",
    "\n",
    "fmm.evaluate()\n",
    "fmm.unsort_all_potentials()"
   ]
  },
  {
   "cell_type": "markdown",
   "id": "5860ef5f-bbe6-4208-b10b-f8cb79b9a77f",
   "metadata": {},
   "source": [
    "#### Plot Solution"
   ]
  },
  {
   "cell_type": "code",
   "execution_count": 9,
   "id": "25d4692c-d7ab-4f03-b2aa-ca92da29b961",
   "metadata": {},
   "outputs": [],
   "source": [
    "mlab.view(azimuth=40, elevation=70, distance=\"auto\", focalpoint=\"auto\")\n",
    "fig = mlab.figure(\n",
    "    size=(960, 1080), bgcolor=(1, 1, 1)\n",
    ")  # This sets the window size for rendering\n",
    "solution = mlab.triangular_mesh(\n",
    "    x, y, z, faces, scalars=np.log(fmm.all_potentials_r).flatten(), representation=\"surface\"\n",
    ")"
   ]
  },
  {
   "cell_type": "code",
   "execution_count": null,
   "id": "63112c1c-e4f5-44b8-8073-3cefd8e226c0",
   "metadata": {},
   "outputs": [],
   "source": []
  }
 ],
 "metadata": {
  "kernelspec": {
   "display_name": "Python 3 (ipykernel)",
   "language": "python",
   "name": "python3"
  },
  "language_info": {
   "codemirror_mode": {
    "name": "ipython",
    "version": 3
   },
   "file_extension": ".py",
   "mimetype": "text/x-python",
   "name": "python",
   "nbconvert_exporter": "python",
   "pygments_lexer": "ipython3",
   "version": "3.10.14"
  }
 },
 "nbformat": 4,
 "nbformat_minor": 5
}
