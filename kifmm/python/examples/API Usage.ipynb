{
 "cells": [
  {
   "cell_type": "code",
   "execution_count": 1,
   "id": "19fbf798-ed9f-4797-be45-ecb57ddba8e8",
   "metadata": {},
   "outputs": [],
   "source": [
    "import numpy as np\n",
    "from kifmm_py import KiFmm\n",
    "\n",
    "# For testing consistency\n",
    "np.random.seed(0)"
   ]
  },
  {
   "cell_type": "markdown",
   "id": "561bc79e-ccfd-4a34-923d-2ccbad358647",
   "metadata": {},
   "source": [
    "# Laplace"
   ]
  },
  {
   "cell_type": "code",
   "execution_count": 2,
   "id": "0a9355ab-e883-4b23-a5d5-e8e19f48dc49",
   "metadata": {},
   "outputs": [],
   "source": [
    "dim = 3\n",
    "dtype = np.float32\n",
    "ctype = np.complex64\n",
    "\n",
    "# Set FMM Parameters\n",
    "expansion_order = 6\n",
    "n_vec = 1\n",
    "n_crit = 150\n",
    "sparse = True\n",
    "n_sources = 1000\n",
    "n_targets = 2000\n",
    "kernel = \"laplace\"  # Or 'helmholtz'\n",
    "field_translation = \"blas\"  # Or 'fft'\n",
    "kernel_eval_type = (\n",
    "    \"eval_deriv\"  # For potential graidents, or 'eval' for potentials only\n",
    ")\n",
    "\n",
    "# Setup source/target/charge data in Fortran order\n",
    "sources = np.zeros((n_sources, dim), order=\"F\").astype(dtype)\n",
    "sources = np.reshape(\n",
    "    np.random.rand(n_sources * dim), (n_sources, dim), order=\"F\"\n",
    ").astype(dtype)\n",
    "targets = np.reshape(\n",
    "    np.random.rand(n_targets * dim), (n_targets, dim), order=\"F\"\n",
    ").astype(dtype)\n",
    "charges = np.reshape(\n",
    "    np.random.rand(n_sources * n_vec), (n_sources, n_vec), order=\"F\"\n",
    ").astype(dtype)"
   ]
  },
  {
   "cell_type": "code",
   "execution_count": 3,
   "id": "489990dc-ff04-487b-b8b7-6aa313c252c9",
   "metadata": {},
   "outputs": [],
   "source": [
    "fmm = KiFmm(\n",
    "    expansion_order,\n",
    "    sources,\n",
    "    targets,\n",
    "    charges,\n",
    "    n_crit,\n",
    "    sparse,\n",
    "    kernel_eval_type,\n",
    "    kernel,\n",
    "    field_translation,\n",
    "    svd_threshold=1e-7,  # Optional, required for 'blas' based field translations\n",
    ")"
   ]
  },
  {
   "cell_type": "code",
   "execution_count": 4,
   "id": "7e6ce70b-bdcb-4651-9023-b2d7bf454f14",
   "metadata": {},
   "outputs": [],
   "source": [
    "# Run the FMM\n",
    "fmm.evaluate()"
   ]
  },
  {
   "cell_type": "code",
   "execution_count": 5,
   "id": "3da0cb81-ccc2-443c-9ccc-2ca86f8422c0",
   "metadata": {
    "scrolled": true
   },
   "outputs": [],
   "source": [
    "# Examine result at leaf index\n",
    "leaf = fmm.target_leaves[1]\n",
    "found = fmm.potentials(leaf)[0]\n",
    "targets_leaf = fmm.target_coordinates(leaf)\n",
    "expected = fmm.evaluate_kernel(sources, targets_leaf, charges)\n",
    "\n",
    "# Test\n",
    "np.testing.assert_allclose(found, expected, rtol=1e-2)"
   ]
  },
  {
   "cell_type": "markdown",
   "id": "e6302c51-8364-4729-8af3-4ff3f50dbd31",
   "metadata": {},
   "source": [
    "# Helmholtz"
   ]
  },
  {
   "cell_type": "code",
   "execution_count": 6,
   "id": "c802ba1f-eae3-423c-a4ee-96059a1592b1",
   "metadata": {},
   "outputs": [],
   "source": [
    "# Set FMM Parameters\n",
    "kernel = \"helmholtz\"  # Or 'helmholtz'\n",
    "field_translation = \"fft\"  # Or 'blas'\n",
    "kernel_eval_type = \"eval\"  # For potentials only\n",
    "\n",
    "# Now need complex charges\n",
    "charges = np.array(np.ones((n_sources, 1)).astype(ctype), order=\"F\")\n",
    "for i, c in enumerate(charges):\n",
    "    charges[i] = i * (1 + 1j)"
   ]
  },
  {
   "cell_type": "code",
   "execution_count": 7,
   "id": "960871bd-9670-4084-86eb-d20ebcdab2fa",
   "metadata": {},
   "outputs": [],
   "source": [
    "fmm = KiFmm(\n",
    "    expansion_order,\n",
    "    sources,\n",
    "    targets,\n",
    "    charges,\n",
    "    n_crit,\n",
    "    sparse,\n",
    "    kernel_eval_type,\n",
    "    kernel,\n",
    "    field_translation,\n",
    "    wavenumber=1.0,  # Optional, required for 'helmholtz' FMM\n",
    ")"
   ]
  },
  {
   "cell_type": "code",
   "execution_count": 8,
   "id": "086f8fc0-15eb-4508-8c3d-dea0a292d28a",
   "metadata": {},
   "outputs": [],
   "source": [
    "# Run the FMM\n",
    "fmm.evaluate()\n",
    "\n",
    "# Examine result at leaf index\n",
    "leaf = fmm.target_leaves[1]\n",
    "found = fmm.potentials(leaf)[0]\n",
    "targets_leaf = fmm.target_coordinates(leaf)\n",
    "expected = fmm.evaluate_kernel(sources, targets_leaf, charges)\n",
    "\n",
    "# Test\n",
    "np.testing.assert_allclose(found, expected, rtol=1e-5)"
   ]
  },
  {
   "cell_type": "markdown",
   "id": "2db822d0-864f-4630-9609-91d709df33eb",
   "metadata": {},
   "source": [
    "# Multipole Charge Vectors With BLAS field translations"
   ]
  },
  {
   "cell_type": "code",
   "execution_count": 9,
   "id": "8a4de2c1-dc10-4916-aca9-0adb3cc932da",
   "metadata": {},
   "outputs": [],
   "source": [
    "n_vec = 5\n",
    "charges = np.reshape(\n",
    "    np.random.rand(n_sources * n_vec), (n_sources, n_vec), order=\"F\"\n",
    ").astype(dtype)\n",
    "\n",
    "# Set FMM Parameters\n",
    "expansion_order = 6\n",
    "n_vec = 1\n",
    "n_crit = 150\n",
    "sparse = True\n",
    "n_sources = 1000\n",
    "n_targets = 2000\n",
    "kernel = \"laplace\"  # Or 'helmholtz'\n",
    "field_translation = (\n",
    "    \"blas\"  # only blas field translations permitted for multiple charge vectors\n",
    ")\n",
    "kernel_eval_type = \"eval\"\n",
    "\n",
    "\n",
    "fmm = KiFmm(\n",
    "    expansion_order,\n",
    "    sources,\n",
    "    targets,\n",
    "    charges,\n",
    "    n_crit,\n",
    "    sparse,\n",
    "    kernel_eval_type,\n",
    "    kernel,\n",
    "    field_translation,\n",
    "    svd_threshold=1e-7,  # Optional, required for 'blas' based field translations\n",
    ")\n",
    "\n",
    "# As before evaluate\n",
    "fmm.evaluate()"
   ]
  }
 ],
 "metadata": {
  "kernelspec": {
   "display_name": "Python 3 (ipykernel)",
   "language": "python",
   "name": "python3"
  },
  "language_info": {
   "codemirror_mode": {
    "name": "ipython",
    "version": 3
   },
   "file_extension": ".py",
   "mimetype": "text/x-python",
   "name": "python",
   "nbconvert_exporter": "python",
   "pygments_lexer": "ipython3",
   "version": "3.10.14"
  }
 },
 "nbformat": 4,
 "nbformat_minor": 5
}
