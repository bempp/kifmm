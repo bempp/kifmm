{
 "cells": [
  {
   "cell_type": "code",
   "execution_count": 1,
   "id": "b5f98a50-045c-4447-913c-cf70d8ee7a59",
   "metadata": {},
   "outputs": [],
   "source": [
    "import numpy as np\n",
    "\n",
    "from kifmm_py import (\n",
    "    KiFmmMulti,\n",
    "    LaplaceKernel,\n",
    "    HelmholtzKernel,\n",
    "    MultiNodeTree,\n",
    "    EvalType,\n",
    "    BlasFieldTranslation,\n",
    "    FftFieldTranslation,\n",
    "    SortKind\n",
    ")"
   ]
  },
  {
   "cell_type": "code",
   "execution_count": 2,
   "id": "e2d668d0-3353-41ab-a3d4-84dc7db9b2df",
   "metadata": {},
   "outputs": [],
   "source": [
    "from mpi4py import MPI\n",
    "\n",
    "world = MPI.COMM_WORLD"
   ]
  },
  {
   "cell_type": "code",
   "execution_count": 3,
   "id": "23da5799-4805-40c0-b1b1-f5b42eae51ca",
   "metadata": {},
   "outputs": [],
   "source": [
    "np.random.seed(0)\n",
    "\n",
    "dim = 3\n",
    "dtype = np.float32\n",
    "\n",
    "# Set FMM Parameters\n",
    "expansion_order = np.array([6], np.uint64)  # Single expansion order as using n_crit\n",
    "n_vec = 1\n",
    "n_crit = 150\n",
    "n_sources = 1000\n",
    "n_targets = 2000\n",
    "prune_empty = True  # Optionally remove empty leaf boxes, their siblings, and ancestors, from the Tree\n",
    "\n",
    "# Setup source/target/charge data in Fortran order\n",
    "sources = np.random.rand(n_sources * dim).astype(dtype)\n",
    "targets = np.random.rand(n_targets * dim).astype(dtype)\n",
    "charges = np.random.rand(n_sources * n_vec).astype(dtype)\n",
    "\n",
    "eval_type = EvalType.Value\n",
    "\n",
    "# EvalType computes either potentials (EvalType.Value) or potentials + derivatives (EvalType.ValueDeriv)\n",
    "kernel = LaplaceKernel(dtype, eval_type)\n",
    "\n",
    "local_depth = 1\n",
    "global_depth = 1\n",
    "sort_kind = SortKind.SampleSort\n",
    "n_samples = 10\n",
    "\n",
    "tree = MultiNodeTree(world, sources, targets, charges, local_depth, global_depth, sort_kind, prune_empty, n_samples)"
   ]
  },
  {
   "cell_type": "code",
   "execution_count": 4,
   "id": "45081882-5cc3-4645-9c92-d1883a7b1ee5",
   "metadata": {},
   "outputs": [],
   "source": [
    "field_translation = FftFieldTranslation(kernel, block_size=32)"
   ]
  },
  {
   "cell_type": "code",
   "execution_count": 5,
   "id": "abc813a3-8909-40e2-a657-5be3400ba68a",
   "metadata": {},
   "outputs": [
    {
     "data": {
      "text/plain": [
       "1"
      ]
     },
     "execution_count": 5,
     "metadata": {},
     "output_type": "execute_result"
    }
   ],
   "source": [
    "tree.n_charges // (tree.n_sources // 3)"
   ]
  },
  {
   "cell_type": "code",
   "execution_count": 7,
   "id": "952c92a9-d597-47fb-bde6-eb2c03ffa210",
   "metadata": {},
   "outputs": [],
   "source": [
    "fmm = KiFmmMulti(expansion_order, tree, field_translation, timed=True)"
   ]
  },
  {
   "cell_type": "code",
   "execution_count": null,
   "id": "d673861f-7004-4686-89bd-5cc0f18d68d8",
   "metadata": {},
   "outputs": [],
   "source": []
  }
 ],
 "metadata": {
  "kernelspec": {
   "display_name": "Python 3 (ipykernel)",
   "language": "python",
   "name": "python3"
  },
  "language_info": {
   "codemirror_mode": {
    "name": "ipython",
    "version": 3
   },
   "file_extension": ".py",
   "mimetype": "text/x-python",
   "name": "python",
   "nbconvert_exporter": "python",
   "pygments_lexer": "ipython3",
   "version": "3.10.17"
  }
 },
 "nbformat": 4,
 "nbformat_minor": 5
}
